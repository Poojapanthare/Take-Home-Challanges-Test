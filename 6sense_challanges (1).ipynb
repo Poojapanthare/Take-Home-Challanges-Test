{
  "nbformat": 4,
  "nbformat_minor": 0,
  "metadata": {
    "colab": {
      "name": "6sense_challanges.ipynb",
      "provenance": [],
      "collapsed_sections": []
    },
    "kernelspec": {
      "name": "python3",
      "display_name": "Python 3"
    },
    "language_info": {
      "name": "python"
    }
  },
  "cells": [
    {
      "cell_type": "code",
      "metadata": {
        "id": "-t1jcsW1qbry"
      },
      "source": [
        "import pandas as pd\n",
        "import numpy as np\n",
        "import os\n",
        "from IPython.core.interactiveshell import InteractiveShell\n",
        "InteractiveShell.ast_node_interactivity = \"all\"\n",
        "import math\n",
        "import json\n",
        "import time\n",
        "import matplotlib.pyplot as plt\n",
        "import seaborn as sns\n",
        "from sklearn.metrics.pairwise import cosine_similarity\n",
        "from sklearn.model_selection import train_test_split\n",
        "from sklearn.neighbors import NearestNeighbors\n",
        "from sklearn.externals import joblib\n",
        "import scipy.sparse\n",
        "from sklearn.model_selection import train_test_split\n",
        "from scipy.sparse import csr_matrix\n",
        "from scipy.sparse.linalg import svds\n",
        "import warnings; warnings.simplefilter('ignore')\n",
        "%matplotlib inline\n",
        "\n",
        "from sklearn import metrics\n",
        "# from sklearn.preprocessing import OneHotEncoder\n",
        "from sklearn.linear_model import LogisticRegression\n",
        "from sklearn.ensemble import RandomForestClassifier\n",
        "from sklearn.neural_network import MLPClassifier"
      ],
      "execution_count": 48,
      "outputs": []
    },
    {
      "cell_type": "code",
      "metadata": {
        "colab": {
          "base_uri": "https://localhost:8080/"
        },
        "id": "kyv97kiYxjlU",
        "outputId": "24b3a76e-8d69-4d42-a3f8-5fb4dc4aa2a3"
      },
      "source": [
        "# load raw data\n",
        "from google.colab import drive\n",
        "drive.mount(\"Test_Problem\")"
      ],
      "execution_count": 8,
      "outputs": [
        {
          "output_type": "stream",
          "name": "stdout",
          "text": [
            "Mounted at Test_Problem\n"
          ]
        }
      ]
    },
    {
      "cell_type": "code",
      "metadata": {
        "id": "3p7jYPlTx47N"
      },
      "source": [
        "#seting up the root DTR\n",
        "Root_DTR =\"drive/My Drive/Test_Problem/dataset/training.tsv\""
      ],
      "execution_count": 9,
      "outputs": []
    },
    {
      "cell_type": "code",
      "metadata": {
        "id": "bB8B7Aeu4c1A"
      },
      "source": [
        "import pandas as pd"
      ],
      "execution_count": 10,
      "outputs": []
    },
    {
      "cell_type": "code",
      "metadata": {
        "id": "BznOJzx13iLA"
      },
      "source": [
        "Root_DTR =\"Test_Problem/My Drive/Test_Problem/\""
      ],
      "execution_count": 11,
      "outputs": []
    },
    {
      "cell_type": "code",
      "metadata": {
        "id": "wk6mQxta4_U_"
      },
      "source": [
        "# Reading dataset and Giving proper column values according to the description\n",
        "df_train =pd.read_csv(Root_DTR+'dataset/training.tsv',sep='\\t',names=['User_id','Activity_date','Activity_type'])\n",
        "df_test =pd.read_csv(Root_DTR+'dataset/test.tsv',sep='\\t',names=['User_id','Activity_date','Activity_type'])"
      ],
      "execution_count": 12,
      "outputs": []
    },
    {
      "cell_type": "code",
      "metadata": {
        "colab": {
          "base_uri": "https://localhost:8080/",
          "height": 419
        },
        "id": "v1Xo6M4h6mDV",
        "outputId": "6c8ffd37-dc36-4786-a6e4-e397bcb36921"
      },
      "source": [
        "df_train"
      ],
      "execution_count": 13,
      "outputs": [
        {
          "output_type": "execute_result",
          "data": {
            "text/html": [
              "<div>\n",
              "<style scoped>\n",
              "    .dataframe tbody tr th:only-of-type {\n",
              "        vertical-align: middle;\n",
              "    }\n",
              "\n",
              "    .dataframe tbody tr th {\n",
              "        vertical-align: top;\n",
              "    }\n",
              "\n",
              "    .dataframe thead th {\n",
              "        text-align: right;\n",
              "    }\n",
              "</style>\n",
              "<table border=\"1\" class=\"dataframe\">\n",
              "  <thead>\n",
              "    <tr style=\"text-align: right;\">\n",
              "      <th></th>\n",
              "      <th>User_id</th>\n",
              "      <th>Activity_date</th>\n",
              "      <th>Activity_type</th>\n",
              "    </tr>\n",
              "  </thead>\n",
              "  <tbody>\n",
              "    <tr>\n",
              "      <th>0</th>\n",
              "      <td>00002acbe042d69</td>\n",
              "      <td>2013-07-11</td>\n",
              "      <td>EmailOpen</td>\n",
              "    </tr>\n",
              "    <tr>\n",
              "      <th>1</th>\n",
              "      <td>00002acbe042d69</td>\n",
              "      <td>2013-07-11</td>\n",
              "      <td>FormSubmit</td>\n",
              "    </tr>\n",
              "    <tr>\n",
              "      <th>2</th>\n",
              "      <td>00002acbe042d69</td>\n",
              "      <td>2013-07-15</td>\n",
              "      <td>EmailOpen</td>\n",
              "    </tr>\n",
              "    <tr>\n",
              "      <th>3</th>\n",
              "      <td>00002acbe042d69</td>\n",
              "      <td>2013-07-17</td>\n",
              "      <td>EmailOpen</td>\n",
              "    </tr>\n",
              "    <tr>\n",
              "      <th>4</th>\n",
              "      <td>00002acbe042d69</td>\n",
              "      <td>2013-07-18</td>\n",
              "      <td>EmailOpen</td>\n",
              "    </tr>\n",
              "    <tr>\n",
              "      <th>...</th>\n",
              "      <td>...</td>\n",
              "      <td>...</td>\n",
              "      <td>...</td>\n",
              "    </tr>\n",
              "    <tr>\n",
              "      <th>4918672</th>\n",
              "      <td>fffff031760c3f5</td>\n",
              "      <td>2014-06-24</td>\n",
              "      <td>EmailOpen</td>\n",
              "    </tr>\n",
              "    <tr>\n",
              "      <th>4918673</th>\n",
              "      <td>fffff031760c3f5</td>\n",
              "      <td>2014-06-25</td>\n",
              "      <td>EmailOpen</td>\n",
              "    </tr>\n",
              "    <tr>\n",
              "      <th>4918674</th>\n",
              "      <td>fffff031760c3f5</td>\n",
              "      <td>2014-07-02</td>\n",
              "      <td>EmailOpen</td>\n",
              "    </tr>\n",
              "    <tr>\n",
              "      <th>4918675</th>\n",
              "      <td>fffff031760c3f5</td>\n",
              "      <td>2014-08-11</td>\n",
              "      <td>EmailOpen</td>\n",
              "    </tr>\n",
              "    <tr>\n",
              "      <th>4918676</th>\n",
              "      <td>fffff031760c3f5</td>\n",
              "      <td>2014-08-21</td>\n",
              "      <td>EmailOpen</td>\n",
              "    </tr>\n",
              "  </tbody>\n",
              "</table>\n",
              "<p>4918677 rows × 3 columns</p>\n",
              "</div>"
            ],
            "text/plain": [
              "                 User_id Activity_date Activity_type\n",
              "0        00002acbe042d69    2013-07-11     EmailOpen\n",
              "1        00002acbe042d69    2013-07-11    FormSubmit\n",
              "2        00002acbe042d69    2013-07-15     EmailOpen\n",
              "3        00002acbe042d69    2013-07-17     EmailOpen\n",
              "4        00002acbe042d69    2013-07-18     EmailOpen\n",
              "...                  ...           ...           ...\n",
              "4918672  fffff031760c3f5    2014-06-24     EmailOpen\n",
              "4918673  fffff031760c3f5    2014-06-25     EmailOpen\n",
              "4918674  fffff031760c3f5    2014-07-02     EmailOpen\n",
              "4918675  fffff031760c3f5    2014-08-11     EmailOpen\n",
              "4918676  fffff031760c3f5    2014-08-21     EmailOpen\n",
              "\n",
              "[4918677 rows x 3 columns]"
            ]
          },
          "metadata": {},
          "execution_count": 13
        }
      ]
    },
    {
      "cell_type": "code",
      "metadata": {
        "colab": {
          "base_uri": "https://localhost:8080/",
          "height": 173
        },
        "id": "z-88HONT7rgi",
        "outputId": "43117af7-a7dc-4202-a327-e9de9a445d96"
      },
      "source": [
        "# Understanding the dataset better\n",
        "# Getting the descriptive statstics parameters for the dataset\n",
        "\n",
        "df_train.describe(include = 'all')"
      ],
      "execution_count": 14,
      "outputs": [
        {
          "output_type": "execute_result",
          "data": {
            "text/html": [
              "<div>\n",
              "<style scoped>\n",
              "    .dataframe tbody tr th:only-of-type {\n",
              "        vertical-align: middle;\n",
              "    }\n",
              "\n",
              "    .dataframe tbody tr th {\n",
              "        vertical-align: top;\n",
              "    }\n",
              "\n",
              "    .dataframe thead th {\n",
              "        text-align: right;\n",
              "    }\n",
              "</style>\n",
              "<table border=\"1\" class=\"dataframe\">\n",
              "  <thead>\n",
              "    <tr style=\"text-align: right;\">\n",
              "      <th></th>\n",
              "      <th>User_id</th>\n",
              "      <th>Activity_date</th>\n",
              "      <th>Activity_type</th>\n",
              "    </tr>\n",
              "  </thead>\n",
              "  <tbody>\n",
              "    <tr>\n",
              "      <th>count</th>\n",
              "      <td>4918677</td>\n",
              "      <td>4918677</td>\n",
              "      <td>4918677</td>\n",
              "    </tr>\n",
              "    <tr>\n",
              "      <th>unique</th>\n",
              "      <td>341568</td>\n",
              "      <td>671</td>\n",
              "      <td>7</td>\n",
              "    </tr>\n",
              "    <tr>\n",
              "      <th>top</th>\n",
              "      <td>2cd311cc3ef2d0c</td>\n",
              "      <td>2014-06-18</td>\n",
              "      <td>EmailOpen</td>\n",
              "    </tr>\n",
              "    <tr>\n",
              "      <th>freq</th>\n",
              "      <td>2718</td>\n",
              "      <td>50184</td>\n",
              "      <td>3191732</td>\n",
              "    </tr>\n",
              "  </tbody>\n",
              "</table>\n",
              "</div>"
            ],
            "text/plain": [
              "                User_id Activity_date Activity_type\n",
              "count           4918677       4918677       4918677\n",
              "unique           341568           671             7\n",
              "top     2cd311cc3ef2d0c    2014-06-18     EmailOpen\n",
              "freq               2718         50184       3191732"
            ]
          },
          "metadata": {},
          "execution_count": 14
        }
      ]
    },
    {
      "cell_type": "code",
      "metadata": {
        "colab": {
          "base_uri": "https://localhost:8080/"
        },
        "id": "qUMCGb0c8B9z",
        "outputId": "c776d223-92d8-4ee5-c803-03089b3d2714"
      },
      "source": [
        "# Checking for missing values in the dataset\n",
        "\n",
        "df_train.isnull().sum()"
      ],
      "execution_count": 15,
      "outputs": [
        {
          "output_type": "execute_result",
          "data": {
            "text/plain": [
              "User_id          0\n",
              "Activity_date    0\n",
              "Activity_type    0\n",
              "dtype: int64"
            ]
          },
          "metadata": {},
          "execution_count": 15
        }
      ]
    },
    {
      "cell_type": "code",
      "metadata": {
        "colab": {
          "base_uri": "https://localhost:8080/",
          "height": 386
        },
        "id": "JQ1EMYRf8r0h",
        "outputId": "a7c87999-a10d-4efd-ba2a-ebcda1278225"
      },
      "source": [
        "# Univariate Analysis to understand better the distribution of user activity across number of users\n",
        "with sns.axes_style('white'):\n",
        "    g = sns.factorplot(\"Activity_type\", data=df_train, aspect=2.0,kind='count')\n",
        "    g.set_ylabels(\"Total number of Users Activity_Type\")\n"
      ],
      "execution_count": 16,
      "outputs": [
        {
          "output_type": "execute_result",
          "data": {
            "text/plain": [
              "<seaborn.axisgrid.FacetGrid at 0x7f6c8d1c8650>"
            ]
          },
          "metadata": {},
          "execution_count": 16
        },
        {
          "output_type": "display_data",
          "data": {
            "image/png": "[encoded data removed]",
            "text/plain": [
              "<Figure size 720x360 with 1 Axes>"
            ]
          },
          "metadata": {}
        }
      ]
    },
    {
      "cell_type": "code",
      "metadata": {
        "id": "_FnWsF_H9D_U"
      },
      "source": [
        "df_train['Activity_type'] = df_train['Activity_type'].astype('category')"
      ],
      "execution_count": 17,
      "outputs": []
    },
    {
      "cell_type": "code",
      "metadata": {
        "id": "dzK5plhn92cq"
      },
      "source": [
        "df_train['Activity_date'] = pd.to_datetime(df_train['Activity_date'])\n",
        "date_range = str(df_train['Activity_date'].dt.date.min()) + ' to ' +str(df_train['Activity_date'].dt.date.max())"
      ],
      "execution_count": 18,
      "outputs": []
    },
    {
      "cell_type": "code",
      "metadata": {
        "colab": {
          "base_uri": "https://localhost:8080/",
          "height": 35
        },
        "id": "OwKwLgUA92gM",
        "outputId": "e016f31b-5fce-4147-a1cd-12e14c5e4bae"
      },
      "source": [
        "date_range"
      ],
      "execution_count": 19,
      "outputs": [
        {
          "output_type": "execute_result",
          "data": {
            "application/vnd.google.colaboratory.intrinsic+json": {
              "type": "string"
            },
            "text/plain": [
              "'2013-07-01 to 2015-05-02'"
            ]
          },
          "metadata": {},
          "execution_count": 19
        }
      ]
    },
    {
      "cell_type": "code",
      "metadata": {
        "colab": {
          "base_uri": "https://localhost:8080/",
          "height": 450
        },
        "id": "89iKbZnd92jc",
        "outputId": "17b7c89e-6d80-46d6-8fd8-ff75c70a3fed"
      },
      "source": [
        "df_train.set_index('Activity_date')"
      ],
      "execution_count": 20,
      "outputs": [
        {
          "output_type": "execute_result",
          "data": {
            "text/html": [
              "<div>\n",
              "<style scoped>\n",
              "    .dataframe tbody tr th:only-of-type {\n",
              "        vertical-align: middle;\n",
              "    }\n",
              "\n",
              "    .dataframe tbody tr th {\n",
              "        vertical-align: top;\n",
              "    }\n",
              "\n",
              "    .dataframe thead th {\n",
              "        text-align: right;\n",
              "    }\n",
              "</style>\n",
              "<table border=\"1\" class=\"dataframe\">\n",
              "  <thead>\n",
              "    <tr style=\"text-align: right;\">\n",
              "      <th></th>\n",
              "      <th>User_id</th>\n",
              "      <th>Activity_type</th>\n",
              "    </tr>\n",
              "    <tr>\n",
              "      <th>Activity_date</th>\n",
              "      <th></th>\n",
              "      <th></th>\n",
              "    </tr>\n",
              "  </thead>\n",
              "  <tbody>\n",
              "    <tr>\n",
              "      <th>2013-07-11</th>\n",
              "      <td>00002acbe042d69</td>\n",
              "      <td>EmailOpen</td>\n",
              "    </tr>\n",
              "    <tr>\n",
              "      <th>2013-07-11</th>\n",
              "      <td>00002acbe042d69</td>\n",
              "      <td>FormSubmit</td>\n",
              "    </tr>\n",
              "    <tr>\n",
              "      <th>2013-07-15</th>\n",
              "      <td>00002acbe042d69</td>\n",
              "      <td>EmailOpen</td>\n",
              "    </tr>\n",
              "    <tr>\n",
              "      <th>2013-07-17</th>\n",
              "      <td>00002acbe042d69</td>\n",
              "      <td>EmailOpen</td>\n",
              "    </tr>\n",
              "    <tr>\n",
              "      <th>2013-07-18</th>\n",
              "      <td>00002acbe042d69</td>\n",
              "      <td>EmailOpen</td>\n",
              "    </tr>\n",
              "    <tr>\n",
              "      <th>...</th>\n",
              "      <td>...</td>\n",
              "      <td>...</td>\n",
              "    </tr>\n",
              "    <tr>\n",
              "      <th>2014-06-24</th>\n",
              "      <td>fffff031760c3f5</td>\n",
              "      <td>EmailOpen</td>\n",
              "    </tr>\n",
              "    <tr>\n",
              "      <th>2014-06-25</th>\n",
              "      <td>fffff031760c3f5</td>\n",
              "      <td>EmailOpen</td>\n",
              "    </tr>\n",
              "    <tr>\n",
              "      <th>2014-07-02</th>\n",
              "      <td>fffff031760c3f5</td>\n",
              "      <td>EmailOpen</td>\n",
              "    </tr>\n",
              "    <tr>\n",
              "      <th>2014-08-11</th>\n",
              "      <td>fffff031760c3f5</td>\n",
              "      <td>EmailOpen</td>\n",
              "    </tr>\n",
              "    <tr>\n",
              "      <th>2014-08-21</th>\n",
              "      <td>fffff031760c3f5</td>\n",
              "      <td>EmailOpen</td>\n",
              "    </tr>\n",
              "  </tbody>\n",
              "</table>\n",
              "<p>4918677 rows × 2 columns</p>\n",
              "</div>"
            ],
            "text/plain": [
              "                       User_id Activity_type\n",
              "Activity_date                               \n",
              "2013-07-11     00002acbe042d69     EmailOpen\n",
              "2013-07-11     00002acbe042d69    FormSubmit\n",
              "2013-07-15     00002acbe042d69     EmailOpen\n",
              "2013-07-17     00002acbe042d69     EmailOpen\n",
              "2013-07-18     00002acbe042d69     EmailOpen\n",
              "...                        ...           ...\n",
              "2014-06-24     fffff031760c3f5     EmailOpen\n",
              "2014-06-25     fffff031760c3f5     EmailOpen\n",
              "2014-07-02     fffff031760c3f5     EmailOpen\n",
              "2014-08-11     fffff031760c3f5     EmailOpen\n",
              "2014-08-21     fffff031760c3f5     EmailOpen\n",
              "\n",
              "[4918677 rows x 2 columns]"
            ]
          },
          "metadata": {},
          "execution_count": 20
        }
      ]
    },
    {
      "cell_type": "code",
      "metadata": {
        "id": "1O1eBG0_92mg"
      },
      "source": [
        "funnel_steps = [\"EmailOpen\",\"EmailClickthrough\", \"FormSubmit\", \"WebVisit\", \"PageView\", \"CustomerSupport\",\"Purchase\"]"
      ],
      "execution_count": 21,
      "outputs": []
    },
    {
      "cell_type": "code",
      "metadata": {
        "id": "05gjsG-M92st"
      },
      "source": [
        "# Getting insights on user behaviour using Funnel Analysis\n",
        "\n",
        "def funnelize(user_group, funnel_steps):\n",
        "    user_freq = [0 for i in funnel_steps]\n",
        "    \n",
        "    for _,row in user_group.iterrows():\n",
        "        activity = row['Activity_type']\n",
        "        if activity in funnel_steps:\n",
        "            idx = funnel_steps.index(activity)\n",
        "            user_freq[idx] += 1\n",
        "    return user_freq"
      ],
      "execution_count": 22,
      "outputs": []
    },
    {
      "cell_type": "code",
      "metadata": {
        "id": "vfyuMPSc92_z"
      },
      "source": [
        "grouped_data = df_train.groupby(\"User_id\").apply(funnelize, funnel_steps)"
      ],
      "execution_count": 23,
      "outputs": []
    },
    {
      "cell_type": "code",
      "metadata": {
        "id": "j37hSy-i-bV3"
      },
      "source": [
        "user_to_activity = pd.DataFrame(list(grouped_data.values),index = grouped_data.index,columns = funnel_steps)"
      ],
      "execution_count": 24,
      "outputs": []
    },
    {
      "cell_type": "code",
      "metadata": {
        "colab": {
          "base_uri": "https://localhost:8080/",
          "height": 390
        },
        "id": "XzayYmBc-bZn",
        "outputId": "33a94d6e-4905-4cdc-aea2-69fd007d58fb"
      },
      "source": [
        "user_to_activity.head(10)"
      ],
      "execution_count": 25,
      "outputs": [
        {
          "output_type": "execute_result",
          "data": {
            "text/html": [
              "<div>\n",
              "<style scoped>\n",
              "    .dataframe tbody tr th:only-of-type {\n",
              "        vertical-align: middle;\n",
              "    }\n",
              "\n",
              "    .dataframe tbody tr th {\n",
              "        vertical-align: top;\n",
              "    }\n",
              "\n",
              "    .dataframe thead th {\n",
              "        text-align: right;\n",
              "    }\n",
              "</style>\n",
              "<table border=\"1\" class=\"dataframe\">\n",
              "  <thead>\n",
              "    <tr style=\"text-align: right;\">\n",
              "      <th></th>\n",
              "      <th>EmailOpen</th>\n",
              "      <th>EmailClickthrough</th>\n",
              "      <th>FormSubmit</th>\n",
              "      <th>WebVisit</th>\n",
              "      <th>PageView</th>\n",
              "      <th>CustomerSupport</th>\n",
              "      <th>Purchase</th>\n",
              "    </tr>\n",
              "    <tr>\n",
              "      <th>User_id</th>\n",
              "      <th></th>\n",
              "      <th></th>\n",
              "      <th></th>\n",
              "      <th></th>\n",
              "      <th></th>\n",
              "      <th></th>\n",
              "      <th></th>\n",
              "    </tr>\n",
              "  </thead>\n",
              "  <tbody>\n",
              "    <tr>\n",
              "      <th>00002acbe042d69</th>\n",
              "      <td>9</td>\n",
              "      <td>0</td>\n",
              "      <td>1</td>\n",
              "      <td>0</td>\n",
              "      <td>0</td>\n",
              "      <td>0</td>\n",
              "      <td>0</td>\n",
              "    </tr>\n",
              "    <tr>\n",
              "      <th>0000a3a34bd07e6</th>\n",
              "      <td>20</td>\n",
              "      <td>0</td>\n",
              "      <td>0</td>\n",
              "      <td>0</td>\n",
              "      <td>0</td>\n",
              "      <td>0</td>\n",
              "      <td>0</td>\n",
              "    </tr>\n",
              "    <tr>\n",
              "      <th>0000ecf58c94668</th>\n",
              "      <td>11</td>\n",
              "      <td>1</td>\n",
              "      <td>1</td>\n",
              "      <td>0</td>\n",
              "      <td>0</td>\n",
              "      <td>1</td>\n",
              "      <td>6</td>\n",
              "    </tr>\n",
              "    <tr>\n",
              "      <th>00012205dd4613b</th>\n",
              "      <td>2</td>\n",
              "      <td>0</td>\n",
              "      <td>0</td>\n",
              "      <td>0</td>\n",
              "      <td>0</td>\n",
              "      <td>0</td>\n",
              "      <td>0</td>\n",
              "    </tr>\n",
              "    <tr>\n",
              "      <th>000198d39a568cf</th>\n",
              "      <td>0</td>\n",
              "      <td>0</td>\n",
              "      <td>0</td>\n",
              "      <td>0</td>\n",
              "      <td>0</td>\n",
              "      <td>1</td>\n",
              "      <td>1</td>\n",
              "    </tr>\n",
              "    <tr>\n",
              "      <th>0001b315b991cf0</th>\n",
              "      <td>1</td>\n",
              "      <td>0</td>\n",
              "      <td>0</td>\n",
              "      <td>0</td>\n",
              "      <td>0</td>\n",
              "      <td>0</td>\n",
              "      <td>0</td>\n",
              "    </tr>\n",
              "    <tr>\n",
              "      <th>00022618457fcf2</th>\n",
              "      <td>0</td>\n",
              "      <td>0</td>\n",
              "      <td>0</td>\n",
              "      <td>0</td>\n",
              "      <td>0</td>\n",
              "      <td>1</td>\n",
              "      <td>1</td>\n",
              "    </tr>\n",
              "    <tr>\n",
              "      <th>000256826de4432</th>\n",
              "      <td>0</td>\n",
              "      <td>0</td>\n",
              "      <td>0</td>\n",
              "      <td>0</td>\n",
              "      <td>0</td>\n",
              "      <td>1</td>\n",
              "      <td>1</td>\n",
              "    </tr>\n",
              "    <tr>\n",
              "      <th>000269150971d08</th>\n",
              "      <td>3</td>\n",
              "      <td>0</td>\n",
              "      <td>0</td>\n",
              "      <td>0</td>\n",
              "      <td>0</td>\n",
              "      <td>0</td>\n",
              "      <td>0</td>\n",
              "    </tr>\n",
              "    <tr>\n",
              "      <th>000297ba4fa5026</th>\n",
              "      <td>8</td>\n",
              "      <td>0</td>\n",
              "      <td>0</td>\n",
              "      <td>0</td>\n",
              "      <td>0</td>\n",
              "      <td>0</td>\n",
              "      <td>0</td>\n",
              "    </tr>\n",
              "  </tbody>\n",
              "</table>\n",
              "</div>"
            ],
            "text/plain": [
              "                 EmailOpen  EmailClickthrough  ...  CustomerSupport  Purchase\n",
              "User_id                                        ...                           \n",
              "00002acbe042d69          9                  0  ...                0         0\n",
              "0000a3a34bd07e6         20                  0  ...                0         0\n",
              "0000ecf58c94668         11                  1  ...                1         6\n",
              "00012205dd4613b          2                  0  ...                0         0\n",
              "000198d39a568cf          0                  0  ...                1         1\n",
              "0001b315b991cf0          1                  0  ...                0         0\n",
              "00022618457fcf2          0                  0  ...                1         1\n",
              "000256826de4432          0                  0  ...                1         1\n",
              "000269150971d08          3                  0  ...                0         0\n",
              "000297ba4fa5026          8                  0  ...                0         0\n",
              "\n",
              "[10 rows x 7 columns]"
            ]
          },
          "metadata": {},
          "execution_count": 25
        }
      ]
    },
    {
      "cell_type": "code",
      "metadata": {
        "colab": {
          "base_uri": "https://localhost:8080/",
          "height": 350
        },
        "id": "yU5QMMI--bfZ",
        "outputId": "0943d9be-5823-44d8-8633-d17f8bac4205"
      },
      "source": [
        "##Plotting correlation\n",
        "corrMatrix = user_to_activity.corr()\n",
        "dataplot = sns.heatmap(corrMatrix, cmap=\"YlGnBu\", annot=True)\n",
        "plt.show()"
      ],
      "execution_count": 26,
      "outputs": [
        {
          "output_type": "display_data",
          "data": {
            "image/png": "[encoded data removed]",
            "text/plain": [
              "<Figure size 432x288 with 2 Axes>"
            ]
          },
          "metadata": {
            "needs_background": "light"
          }
        }
      ]
    },
    {
      "cell_type": "code",
      "metadata": {
        "id": "GaZPHFCA-bjg"
      },
      "source": [
        "# As we can see, WebVisit and PageView have high correlation value, it is better to remove one feature. This would reduce the\n",
        "# dimentionality of the dataset and make our model coparitively faster.\n",
        "\n",
        "user_to_activity = user_to_activity.drop(['WebVisit', 'CustomerSupport'], axis=1)"
      ],
      "execution_count": 146,
      "outputs": []
    },
    {
      "cell_type": "code",
      "metadata": {
        "id": "fhBDERGa-bnJ",
        "colab": {
          "base_uri": "https://localhost:8080/",
          "height": 450
        },
        "outputId": "bcb7b768-efb6-473e-ee44-7c31ed0c51fd"
      },
      "source": [
        "user_to_activity "
      ],
      "execution_count": 28,
      "outputs": [
        {
          "output_type": "execute_result",
          "data": {
            "text/html": [
              "<div>\n",
              "<style scoped>\n",
              "    .dataframe tbody tr th:only-of-type {\n",
              "        vertical-align: middle;\n",
              "    }\n",
              "\n",
              "    .dataframe tbody tr th {\n",
              "        vertical-align: top;\n",
              "    }\n",
              "\n",
              "    .dataframe thead th {\n",
              "        text-align: right;\n",
              "    }\n",
              "</style>\n",
              "<table border=\"1\" class=\"dataframe\">\n",
              "  <thead>\n",
              "    <tr style=\"text-align: right;\">\n",
              "      <th></th>\n",
              "      <th>EmailOpen</th>\n",
              "      <th>EmailClickthrough</th>\n",
              "      <th>FormSubmit</th>\n",
              "      <th>PageView</th>\n",
              "      <th>Purchase</th>\n",
              "    </tr>\n",
              "    <tr>\n",
              "      <th>User_id</th>\n",
              "      <th></th>\n",
              "      <th></th>\n",
              "      <th></th>\n",
              "      <th></th>\n",
              "      <th></th>\n",
              "    </tr>\n",
              "  </thead>\n",
              "  <tbody>\n",
              "    <tr>\n",
              "      <th>00002acbe042d69</th>\n",
              "      <td>9</td>\n",
              "      <td>0</td>\n",
              "      <td>1</td>\n",
              "      <td>0</td>\n",
              "      <td>0</td>\n",
              "    </tr>\n",
              "    <tr>\n",
              "      <th>0000a3a34bd07e6</th>\n",
              "      <td>20</td>\n",
              "      <td>0</td>\n",
              "      <td>0</td>\n",
              "      <td>0</td>\n",
              "      <td>0</td>\n",
              "    </tr>\n",
              "    <tr>\n",
              "      <th>0000ecf58c94668</th>\n",
              "      <td>11</td>\n",
              "      <td>1</td>\n",
              "      <td>1</td>\n",
              "      <td>0</td>\n",
              "      <td>6</td>\n",
              "    </tr>\n",
              "    <tr>\n",
              "      <th>00012205dd4613b</th>\n",
              "      <td>2</td>\n",
              "      <td>0</td>\n",
              "      <td>0</td>\n",
              "      <td>0</td>\n",
              "      <td>0</td>\n",
              "    </tr>\n",
              "    <tr>\n",
              "      <th>000198d39a568cf</th>\n",
              "      <td>0</td>\n",
              "      <td>0</td>\n",
              "      <td>0</td>\n",
              "      <td>0</td>\n",
              "      <td>1</td>\n",
              "    </tr>\n",
              "    <tr>\n",
              "      <th>...</th>\n",
              "      <td>...</td>\n",
              "      <td>...</td>\n",
              "      <td>...</td>\n",
              "      <td>...</td>\n",
              "      <td>...</td>\n",
              "    </tr>\n",
              "    <tr>\n",
              "      <th>ffffa46241fb077</th>\n",
              "      <td>0</td>\n",
              "      <td>0</td>\n",
              "      <td>0</td>\n",
              "      <td>0</td>\n",
              "      <td>2</td>\n",
              "    </tr>\n",
              "    <tr>\n",
              "      <th>ffffa4cc0190881</th>\n",
              "      <td>1</td>\n",
              "      <td>0</td>\n",
              "      <td>0</td>\n",
              "      <td>0</td>\n",
              "      <td>0</td>\n",
              "    </tr>\n",
              "    <tr>\n",
              "      <th>ffffa7beb541707</th>\n",
              "      <td>2</td>\n",
              "      <td>0</td>\n",
              "      <td>1</td>\n",
              "      <td>0</td>\n",
              "      <td>0</td>\n",
              "    </tr>\n",
              "    <tr>\n",
              "      <th>ffffecdd8dc6174</th>\n",
              "      <td>14</td>\n",
              "      <td>0</td>\n",
              "      <td>0</td>\n",
              "      <td>0</td>\n",
              "      <td>0</td>\n",
              "    </tr>\n",
              "    <tr>\n",
              "      <th>fffff031760c3f5</th>\n",
              "      <td>5</td>\n",
              "      <td>0</td>\n",
              "      <td>0</td>\n",
              "      <td>0</td>\n",
              "      <td>0</td>\n",
              "    </tr>\n",
              "  </tbody>\n",
              "</table>\n",
              "<p>341568 rows × 5 columns</p>\n",
              "</div>"
            ],
            "text/plain": [
              "                 EmailOpen  EmailClickthrough  FormSubmit  PageView  Purchase\n",
              "User_id                                                                      \n",
              "00002acbe042d69          9                  0           1         0         0\n",
              "0000a3a34bd07e6         20                  0           0         0         0\n",
              "0000ecf58c94668         11                  1           1         0         6\n",
              "00012205dd4613b          2                  0           0         0         0\n",
              "000198d39a568cf          0                  0           0         0         1\n",
              "...                    ...                ...         ...       ...       ...\n",
              "ffffa46241fb077          0                  0           0         0         2\n",
              "ffffa4cc0190881          1                  0           0         0         0\n",
              "ffffa7beb541707          2                  0           1         0         0\n",
              "ffffecdd8dc6174         14                  0           0         0         0\n",
              "fffff031760c3f5          5                  0           0         0         0\n",
              "\n",
              "[341568 rows x 5 columns]"
            ]
          },
          "metadata": {},
          "execution_count": 28
        }
      ]
    },
    {
      "cell_type": "code",
      "metadata": {
        "id": "XiPmDSc5-bqH"
      },
      "source": [
        "user_to_activity[\"Purchased?\"] = np.where(user_to_activity[\"Purchase\"] >= 1, 1, 0)"
      ],
      "execution_count": 29,
      "outputs": []
    },
    {
      "cell_type": "code",
      "metadata": {
        "colab": {
          "base_uri": "https://localhost:8080/",
          "height": 450
        },
        "id": "SUy-Vn2X-bsx",
        "outputId": "f0e79ec5-81d1-4cdc-e726-594ea6cae7fa"
      },
      "source": [
        "user_to_activity"
      ],
      "execution_count": 30,
      "outputs": [
        {
          "output_type": "execute_result",
          "data": {
            "text/html": [
              "<div>\n",
              "<style scoped>\n",
              "    .dataframe tbody tr th:only-of-type {\n",
              "        vertical-align: middle;\n",
              "    }\n",
              "\n",
              "    .dataframe tbody tr th {\n",
              "        vertical-align: top;\n",
              "    }\n",
              "\n",
              "    .dataframe thead th {\n",
              "        text-align: right;\n",
              "    }\n",
              "</style>\n",
              "<table border=\"1\" class=\"dataframe\">\n",
              "  <thead>\n",
              "    <tr style=\"text-align: right;\">\n",
              "      <th></th>\n",
              "      <th>EmailOpen</th>\n",
              "      <th>EmailClickthrough</th>\n",
              "      <th>FormSubmit</th>\n",
              "      <th>PageView</th>\n",
              "      <th>Purchase</th>\n",
              "      <th>Purchased?</th>\n",
              "    </tr>\n",
              "    <tr>\n",
              "      <th>User_id</th>\n",
              "      <th></th>\n",
              "      <th></th>\n",
              "      <th></th>\n",
              "      <th></th>\n",
              "      <th></th>\n",
              "      <th></th>\n",
              "    </tr>\n",
              "  </thead>\n",
              "  <tbody>\n",
              "    <tr>\n",
              "      <th>00002acbe042d69</th>\n",
              "      <td>9</td>\n",
              "      <td>0</td>\n",
              "      <td>1</td>\n",
              "      <td>0</td>\n",
              "      <td>0</td>\n",
              "      <td>0</td>\n",
              "    </tr>\n",
              "    <tr>\n",
              "      <th>0000a3a34bd07e6</th>\n",
              "      <td>20</td>\n",
              "      <td>0</td>\n",
              "      <td>0</td>\n",
              "      <td>0</td>\n",
              "      <td>0</td>\n",
              "      <td>0</td>\n",
              "    </tr>\n",
              "    <tr>\n",
              "      <th>0000ecf58c94668</th>\n",
              "      <td>11</td>\n",
              "      <td>1</td>\n",
              "      <td>1</td>\n",
              "      <td>0</td>\n",
              "      <td>6</td>\n",
              "      <td>1</td>\n",
              "    </tr>\n",
              "    <tr>\n",
              "      <th>00012205dd4613b</th>\n",
              "      <td>2</td>\n",
              "      <td>0</td>\n",
              "      <td>0</td>\n",
              "      <td>0</td>\n",
              "      <td>0</td>\n",
              "      <td>0</td>\n",
              "    </tr>\n",
              "    <tr>\n",
              "      <th>000198d39a568cf</th>\n",
              "      <td>0</td>\n",
              "      <td>0</td>\n",
              "      <td>0</td>\n",
              "      <td>0</td>\n",
              "      <td>1</td>\n",
              "      <td>1</td>\n",
              "    </tr>\n",
              "    <tr>\n",
              "      <th>...</th>\n",
              "      <td>...</td>\n",
              "      <td>...</td>\n",
              "      <td>...</td>\n",
              "      <td>...</td>\n",
              "      <td>...</td>\n",
              "      <td>...</td>\n",
              "    </tr>\n",
              "    <tr>\n",
              "      <th>ffffa46241fb077</th>\n",
              "      <td>0</td>\n",
              "      <td>0</td>\n",
              "      <td>0</td>\n",
              "      <td>0</td>\n",
              "      <td>2</td>\n",
              "      <td>1</td>\n",
              "    </tr>\n",
              "    <tr>\n",
              "      <th>ffffa4cc0190881</th>\n",
              "      <td>1</td>\n",
              "      <td>0</td>\n",
              "      <td>0</td>\n",
              "      <td>0</td>\n",
              "      <td>0</td>\n",
              "      <td>0</td>\n",
              "    </tr>\n",
              "    <tr>\n",
              "      <th>ffffa7beb541707</th>\n",
              "      <td>2</td>\n",
              "      <td>0</td>\n",
              "      <td>1</td>\n",
              "      <td>0</td>\n",
              "      <td>0</td>\n",
              "      <td>0</td>\n",
              "    </tr>\n",
              "    <tr>\n",
              "      <th>ffffecdd8dc6174</th>\n",
              "      <td>14</td>\n",
              "      <td>0</td>\n",
              "      <td>0</td>\n",
              "      <td>0</td>\n",
              "      <td>0</td>\n",
              "      <td>0</td>\n",
              "    </tr>\n",
              "    <tr>\n",
              "      <th>fffff031760c3f5</th>\n",
              "      <td>5</td>\n",
              "      <td>0</td>\n",
              "      <td>0</td>\n",
              "      <td>0</td>\n",
              "      <td>0</td>\n",
              "      <td>0</td>\n",
              "    </tr>\n",
              "  </tbody>\n",
              "</table>\n",
              "<p>341568 rows × 6 columns</p>\n",
              "</div>"
            ],
            "text/plain": [
              "                 EmailOpen  EmailClickthrough  ...  Purchase  Purchased?\n",
              "User_id                                        ...                      \n",
              "00002acbe042d69          9                  0  ...         0           0\n",
              "0000a3a34bd07e6         20                  0  ...         0           0\n",
              "0000ecf58c94668         11                  1  ...         6           1\n",
              "00012205dd4613b          2                  0  ...         0           0\n",
              "000198d39a568cf          0                  0  ...         1           1\n",
              "...                    ...                ...  ...       ...         ...\n",
              "ffffa46241fb077          0                  0  ...         2           1\n",
              "ffffa4cc0190881          1                  0  ...         0           0\n",
              "ffffa7beb541707          2                  0  ...         0           0\n",
              "ffffecdd8dc6174         14                  0  ...         0           0\n",
              "fffff031760c3f5          5                  0  ...         0           0\n",
              "\n",
              "[341568 rows x 6 columns]"
            ]
          },
          "metadata": {},
          "execution_count": 30
        }
      ]
    },
    {
      "cell_type": "code",
      "metadata": {
        "id": "1LLdBTzd93DA"
      },
      "source": [
        "train = user_to_activity.sample(frac = 0.7)"
      ],
      "execution_count": 148,
      "outputs": []
    },
    {
      "cell_type": "code",
      "metadata": {
        "id": "6vg98mFxhJPa"
      },
      "source": [
        "test = user_to_activity.loc[~user_to_activity.index.isin(df_train.index)]"
      ],
      "execution_count": 151,
      "outputs": []
    },
    {
      "cell_type": "code",
      "metadata": {
        "id": "DZXvj9KkhwFE"
      },
      "source": [
        "train = train.to_numpy()\n",
        "test = test.to_numpy()"
      ],
      "execution_count": 152,
      "outputs": []
    },
    {
      "cell_type": "code",
      "metadata": {
        "id": "ukF7Gf5Qhw_7"
      },
      "source": [
        "X_train = train[:,:-2]"
      ],
      "execution_count": 153,
      "outputs": []
    },
    {
      "cell_type": "code",
      "metadata": {
        "id": "xPdMKgrchzMk"
      },
      "source": [
        "Y_train = train[:,-1]"
      ],
      "execution_count": 154,
      "outputs": []
    },
    {
      "cell_type": "code",
      "metadata": {
        "id": "_bFp8emghzXu"
      },
      "source": [
        "X_test = test[:,:-2]"
      ],
      "execution_count": 155,
      "outputs": []
    },
    {
      "cell_type": "code",
      "metadata": {
        "id": "DR7SI4JYh5ge"
      },
      "source": [
        "Y_test = test[:,-1]"
      ],
      "execution_count": 156,
      "outputs": []
    },
    {
      "cell_type": "code",
      "metadata": {
        "id": "pB_plGu1h5sb"
      },
      "source": [
        "model = LogisticRegression()"
      ],
      "execution_count": 157,
      "outputs": []
    },
    {
      "cell_type": "code",
      "metadata": {
        "colab": {
          "base_uri": "https://localhost:8080/"
        },
        "id": "-oQ93Zw7h-dm",
        "outputId": "cd0c7f72-15d2-421e-8f9b-ae253380bae0"
      },
      "source": [
        "model.fit(X_train, Y_train)"
      ],
      "execution_count": 158,
      "outputs": [
        {
          "output_type": "execute_result",
          "data": {
            "text/plain": [
              "LogisticRegression(C=1.0, class_weight=None, dual=False, fit_intercept=True,\n",
              "                   intercept_scaling=1, l1_ratio=None, max_iter=100,\n",
              "                   multi_class='auto', n_jobs=None, penalty='l2',\n",
              "                   random_state=None, solver='lbfgs', tol=0.0001, verbose=0,\n",
              "                   warm_start=False)"
            ]
          },
          "metadata": {},
          "execution_count": 158
        }
      ]
    },
    {
      "cell_type": "code",
      "metadata": {
        "id": "E5-96rLtiHdI"
      },
      "source": [
        "predicted = model.predict(X_test)"
      ],
      "execution_count": 159,
      "outputs": []
    },
    {
      "cell_type": "code",
      "metadata": {
        "colab": {
          "base_uri": "https://localhost:8080/"
        },
        "id": "9HJWIXFqiHs6",
        "outputId": "bcbb81e4-85ea-46c0-a5a3-43d1b44ab365"
      },
      "source": [
        "print(metrics.classification_report(Y_test, predicted))"
      ],
      "execution_count": 160,
      "outputs": [
        {
          "output_type": "stream",
          "name": "stdout",
          "text": [
            "              precision    recall  f1-score   support\n",
            "\n",
            "           0       0.70      1.00      0.82    237577\n",
            "           1       0.74      0.02      0.04    103991\n",
            "\n",
            "    accuracy                           0.70    341568\n",
            "   macro avg       0.72      0.51      0.43    341568\n",
            "weighted avg       0.71      0.70      0.59    341568\n",
            "\n"
          ]
        }
      ]
    },
    {
      "cell_type": "code",
      "metadata": {
        "colab": {
          "base_uri": "https://localhost:8080/",
          "height": 282
        },
        "id": "eqHMrSQViH3F",
        "outputId": "8c763ad9-dc95-45d2-e46a-cc236268caca"
      },
      "source": [
        "\n",
        "cf_matrix = metrics.confusion_matrix(Y_test, predicted)\n",
        "sns.heatmap(cf_matrix,  cmap=\"YlGnBu\", annot=True, fmt='g')"
      ],
      "execution_count": 161,
      "outputs": [
        {
          "output_type": "execute_result",
          "data": {
            "text/plain": [
              "<matplotlib.axes._subplots.AxesSubplot at 0x7f6c8bbd68d0>"
            ]
          },
          "metadata": {},
          "execution_count": 161
        },
        {
          "output_type": "display_data",
          "data": {
            "image/png": "[encoded data removed]",
            "text/plain": [
              "<Figure size 432x288 with 2 Axes>"
            ]
          },
          "metadata": {
            "needs_background": "light"
          }
        }
      ]
    },
    {
      "cell_type": "code",
      "metadata": {
        "id": "yUfzCqlAiH64"
      },
      "source": [
        "# Random Forest Approach\n",
        "user_to_activity = pd.DataFrame(list(grouped_data.values),index = grouped_data.index,columns = funnel_steps)"
      ],
      "execution_count": 162,
      "outputs": []
    },
    {
      "cell_type": "code",
      "metadata": {
        "id": "aiH_37oAiH-J"
      },
      "source": [
        "user_to_activity = user_to_activity.drop(['CustomerSupport'], axis=1)"
      ],
      "execution_count": 163,
      "outputs": []
    },
    {
      "cell_type": "code",
      "metadata": {
        "id": "oDjK__MBiIBE"
      },
      "source": [
        "user_to_activity[\"Purchased?\"] = np.where(user_to_activity[\"Purchase\"] >= 1, 1, 0)"
      ],
      "execution_count": 164,
      "outputs": []
    },
    {
      "cell_type": "code",
      "metadata": {
        "colab": {
          "base_uri": "https://localhost:8080/",
          "height": 450
        },
        "id": "MZaZHUp5iIEA",
        "outputId": "7847843d-7266-4f82-d626-a93fa363f798"
      },
      "source": [
        "train = user_to_activity.sample(frac = 0.7)\n",
        "test = user_to_activity.loc[~user_to_activity.index.isin(df_train.index)]\n",
        "user_to_activity"
      ],
      "execution_count": 166,
      "outputs": [
        {
          "output_type": "execute_result",
          "data": {
            "text/html": [
              "<div>\n",
              "<style scoped>\n",
              "    .dataframe tbody tr th:only-of-type {\n",
              "        vertical-align: middle;\n",
              "    }\n",
              "\n",
              "    .dataframe tbody tr th {\n",
              "        vertical-align: top;\n",
              "    }\n",
              "\n",
              "    .dataframe thead th {\n",
              "        text-align: right;\n",
              "    }\n",
              "</style>\n",
              "<table border=\"1\" class=\"dataframe\">\n",
              "  <thead>\n",
              "    <tr style=\"text-align: right;\">\n",
              "      <th></th>\n",
              "      <th>EmailOpen</th>\n",
              "      <th>EmailClickthrough</th>\n",
              "      <th>FormSubmit</th>\n",
              "      <th>WebVisit</th>\n",
              "      <th>PageView</th>\n",
              "      <th>Purchase</th>\n",
              "      <th>Purchased?</th>\n",
              "    </tr>\n",
              "    <tr>\n",
              "      <th>User_id</th>\n",
              "      <th></th>\n",
              "      <th></th>\n",
              "      <th></th>\n",
              "      <th></th>\n",
              "      <th></th>\n",
              "      <th></th>\n",
              "      <th></th>\n",
              "    </tr>\n",
              "  </thead>\n",
              "  <tbody>\n",
              "    <tr>\n",
              "      <th>00002acbe042d69</th>\n",
              "      <td>9</td>\n",
              "      <td>0</td>\n",
              "      <td>1</td>\n",
              "      <td>0</td>\n",
              "      <td>0</td>\n",
              "      <td>0</td>\n",
              "      <td>0</td>\n",
              "    </tr>\n",
              "    <tr>\n",
              "      <th>0000a3a34bd07e6</th>\n",
              "      <td>20</td>\n",
              "      <td>0</td>\n",
              "      <td>0</td>\n",
              "      <td>0</td>\n",
              "      <td>0</td>\n",
              "      <td>0</td>\n",
              "      <td>0</td>\n",
              "    </tr>\n",
              "    <tr>\n",
              "      <th>0000ecf58c94668</th>\n",
              "      <td>11</td>\n",
              "      <td>1</td>\n",
              "      <td>1</td>\n",
              "      <td>0</td>\n",
              "      <td>0</td>\n",
              "      <td>6</td>\n",
              "      <td>1</td>\n",
              "    </tr>\n",
              "    <tr>\n",
              "      <th>00012205dd4613b</th>\n",
              "      <td>2</td>\n",
              "      <td>0</td>\n",
              "      <td>0</td>\n",
              "      <td>0</td>\n",
              "      <td>0</td>\n",
              "      <td>0</td>\n",
              "      <td>0</td>\n",
              "    </tr>\n",
              "    <tr>\n",
              "      <th>000198d39a568cf</th>\n",
              "      <td>0</td>\n",
              "      <td>0</td>\n",
              "      <td>0</td>\n",
              "      <td>0</td>\n",
              "      <td>0</td>\n",
              "      <td>1</td>\n",
              "      <td>1</td>\n",
              "    </tr>\n",
              "    <tr>\n",
              "      <th>...</th>\n",
              "      <td>...</td>\n",
              "      <td>...</td>\n",
              "      <td>...</td>\n",
              "      <td>...</td>\n",
              "      <td>...</td>\n",
              "      <td>...</td>\n",
              "      <td>...</td>\n",
              "    </tr>\n",
              "    <tr>\n",
              "      <th>ffffa46241fb077</th>\n",
              "      <td>0</td>\n",
              "      <td>0</td>\n",
              "      <td>0</td>\n",
              "      <td>0</td>\n",
              "      <td>0</td>\n",
              "      <td>2</td>\n",
              "      <td>1</td>\n",
              "    </tr>\n",
              "    <tr>\n",
              "      <th>ffffa4cc0190881</th>\n",
              "      <td>1</td>\n",
              "      <td>0</td>\n",
              "      <td>0</td>\n",
              "      <td>0</td>\n",
              "      <td>0</td>\n",
              "      <td>0</td>\n",
              "      <td>0</td>\n",
              "    </tr>\n",
              "    <tr>\n",
              "      <th>ffffa7beb541707</th>\n",
              "      <td>2</td>\n",
              "      <td>0</td>\n",
              "      <td>1</td>\n",
              "      <td>0</td>\n",
              "      <td>0</td>\n",
              "      <td>0</td>\n",
              "      <td>0</td>\n",
              "    </tr>\n",
              "    <tr>\n",
              "      <th>ffffecdd8dc6174</th>\n",
              "      <td>14</td>\n",
              "      <td>0</td>\n",
              "      <td>0</td>\n",
              "      <td>0</td>\n",
              "      <td>0</td>\n",
              "      <td>0</td>\n",
              "      <td>0</td>\n",
              "    </tr>\n",
              "    <tr>\n",
              "      <th>fffff031760c3f5</th>\n",
              "      <td>5</td>\n",
              "      <td>0</td>\n",
              "      <td>0</td>\n",
              "      <td>0</td>\n",
              "      <td>0</td>\n",
              "      <td>0</td>\n",
              "      <td>0</td>\n",
              "    </tr>\n",
              "  </tbody>\n",
              "</table>\n",
              "<p>341568 rows × 7 columns</p>\n",
              "</div>"
            ],
            "text/plain": [
              "                 EmailOpen  EmailClickthrough  ...  Purchase  Purchased?\n",
              "User_id                                        ...                      \n",
              "00002acbe042d69          9                  0  ...         0           0\n",
              "0000a3a34bd07e6         20                  0  ...         0           0\n",
              "0000ecf58c94668         11                  1  ...         6           1\n",
              "00012205dd4613b          2                  0  ...         0           0\n",
              "000198d39a568cf          0                  0  ...         1           1\n",
              "...                    ...                ...  ...       ...         ...\n",
              "ffffa46241fb077          0                  0  ...         2           1\n",
              "ffffa4cc0190881          1                  0  ...         0           0\n",
              "ffffa7beb541707          2                  0  ...         0           0\n",
              "ffffecdd8dc6174         14                  0  ...         0           0\n",
              "fffff031760c3f5          5                  0  ...         0           0\n",
              "\n",
              "[341568 rows x 7 columns]"
            ]
          },
          "metadata": {},
          "execution_count": 166
        }
      ]
    },
    {
      "cell_type": "code",
      "metadata": {
        "id": "-rmm_OAZiIGr"
      },
      "source": [
        "train = train.to_numpy()\n",
        "test = test.to_numpy()\n",
        "\n",
        "X_train = train[:,:-2]\n",
        "Y_train = train[:,-1]\n",
        "\n",
        "X_test = test[:,:-2]\n",
        "Y_test = test[:,-1]"
      ],
      "execution_count": 167,
      "outputs": []
    },
    {
      "cell_type": "code",
      "metadata": {
        "id": "lwe4LuJFim9S"
      },
      "source": [
        "forest = RandomForestClassifier(n_estimators = 100)\n",
        "forest = forest.fit(X_train, Y_train)"
      ],
      "execution_count": 168,
      "outputs": []
    },
    {
      "cell_type": "code",
      "metadata": {
        "id": "50npbgt2inA8"
      },
      "source": [
        "rf_predicted = forest.predict(X_test)"
      ],
      "execution_count": 169,
      "outputs": []
    },
    {
      "cell_type": "code",
      "metadata": {
        "colab": {
          "base_uri": "https://localhost:8080/"
        },
        "id": "xWu_t0W3inEs",
        "outputId": "be9b8b3f-ab78-448e-8679-9e8afb008ade"
      },
      "source": [
        "rf_predicted.shape"
      ],
      "execution_count": 170,
      "outputs": [
        {
          "output_type": "execute_result",
          "data": {
            "text/plain": [
              "(341568,)"
            ]
          },
          "metadata": {},
          "execution_count": 170
        }
      ]
    },
    {
      "cell_type": "code",
      "metadata": {
        "colab": {
          "base_uri": "https://localhost:8080/"
        },
        "id": "3R7gNdo4inHv",
        "outputId": "67c28081-9933-4997-f682-b1804be508b7"
      },
      "source": [
        "print(metrics.classification_report(Y_test, rf_predicted))"
      ],
      "execution_count": 171,
      "outputs": [
        {
          "output_type": "stream",
          "name": "stdout",
          "text": [
            "              precision    recall  f1-score   support\n",
            "\n",
            "           0       0.89      0.99      0.94    237577\n",
            "           1       0.97      0.72      0.82    103991\n",
            "\n",
            "    accuracy                           0.91    341568\n",
            "   macro avg       0.93      0.85      0.88    341568\n",
            "weighted avg       0.91      0.91      0.90    341568\n",
            "\n"
          ]
        }
      ]
    },
    {
      "cell_type": "code",
      "metadata": {
        "id": "3D82wzxcinLp"
      },
      "source": [
        "feature_importance = forest.feature_importances_"
      ],
      "execution_count": 172,
      "outputs": []
    },
    {
      "cell_type": "code",
      "metadata": {
        "colab": {
          "base_uri": "https://localhost:8080/"
        },
        "id": "FmuuAI-UinPc",
        "outputId": "b24e409e-1be9-42e9-f2c0-964187db655d"
      },
      "source": [
        "feature_importance"
      ],
      "execution_count": 173,
      "outputs": [
        {
          "output_type": "execute_result",
          "data": {
            "text/plain": [
              "array([0.68748505, 0.08029467, 0.17140838, 0.0326322 , 0.0281797 ])"
            ]
          },
          "metadata": {},
          "execution_count": 173
        }
      ]
    },
    {
      "cell_type": "code",
      "metadata": {
        "id": "d1vo_ZJQi5yq"
      },
      "source": [
        "std = np.std([tree.feature_importances_ for tree in forest.estimators_],\n",
        "             axis=0)\n",
        "indices = np.argsort(feature_importance)[::-1]"
      ],
      "execution_count": 174,
      "outputs": []
    },
    {
      "cell_type": "code",
      "metadata": {
        "colab": {
          "base_uri": "https://localhost:8080/"
        },
        "id": "J-ej8I9yi6AU",
        "outputId": "0c9fdbab-5129-4ce4-f088-d78b1935ac3c"
      },
      "source": [
        "print(\"Feature ranking:\")\n",
        "features = ['EmailOpen','EmailClickthrough', 'FormSubmit', 'WebVisit', 'PageView']\n",
        "for f in range(X_train.shape[1]):\n",
        "#     print(\"%d. feature {} (%f)\" % (f + 1 , features[f], feature_importance[indices[f]]))\n",
        "    print(\"{0}. {1} = {2}\".format(f  + 1, features[f], round(feature_importance[indices[f]], 2)))"
      ],
      "execution_count": 175,
      "outputs": [
        {
          "output_type": "stream",
          "name": "stdout",
          "text": [
            "Feature ranking:\n",
            "1. EmailOpen = 0.69\n",
            "2. EmailClickthrough = 0.17\n",
            "3. FormSubmit = 0.08\n",
            "4. WebVisit = 0.03\n",
            "5. PageView = 0.03\n"
          ]
        }
      ]
    },
    {
      "cell_type": "code",
      "metadata": {
        "id": "GE93Ze3Di6Fi"
      },
      "source": [
        "df_test =pd.read_csv(Root_DTR+'dataset/test.tsv',sep='\\t',names=['User_id','Activity_date','Activity_type'])"
      ],
      "execution_count": 176,
      "outputs": []
    },
    {
      "cell_type": "code",
      "metadata": {
        "id": "QuecxrmQi6MH"
      },
      "source": [
        "df_test.columns = ['User_id','Activity_date','Activity_type']"
      ],
      "execution_count": 177,
      "outputs": []
    },
    {
      "cell_type": "code",
      "metadata": {
        "id": "Fy_Sg5PhjVWX"
      },
      "source": [
        "df_test.sort_values(by=\"Activity_date\",ascending=True, inplace=True)"
      ],
      "execution_count": 178,
      "outputs": []
    },
    {
      "cell_type": "code",
      "metadata": {
        "colab": {
          "base_uri": "https://localhost:8080/",
          "height": 419
        },
        "id": "WvrJFAe5jVZ5",
        "outputId": "68380a65-0612-487b-cf2f-cf20959534fa"
      },
      "source": [
        "df_test"
      ],
      "execution_count": 179,
      "outputs": [
        {
          "output_type": "execute_result",
          "data": {
            "text/html": [
              "<div>\n",
              "<style scoped>\n",
              "    .dataframe tbody tr th:only-of-type {\n",
              "        vertical-align: middle;\n",
              "    }\n",
              "\n",
              "    .dataframe tbody tr th {\n",
              "        vertical-align: top;\n",
              "    }\n",
              "\n",
              "    .dataframe thead th {\n",
              "        text-align: right;\n",
              "    }\n",
              "</style>\n",
              "<table border=\"1\" class=\"dataframe\">\n",
              "  <thead>\n",
              "    <tr style=\"text-align: right;\">\n",
              "      <th></th>\n",
              "      <th>User_id</th>\n",
              "      <th>Activity_date</th>\n",
              "      <th>Activity_type</th>\n",
              "    </tr>\n",
              "  </thead>\n",
              "  <tbody>\n",
              "    <tr>\n",
              "      <th>687866</th>\n",
              "      <td>d419eae525d4301</td>\n",
              "      <td>2015-05-01</td>\n",
              "      <td>EmailOpen</td>\n",
              "    </tr>\n",
              "    <tr>\n",
              "      <th>339539</th>\n",
              "      <td>5d7c05e8f37b353</td>\n",
              "      <td>2015-05-01</td>\n",
              "      <td>EmailOpen</td>\n",
              "    </tr>\n",
              "    <tr>\n",
              "      <th>608390</th>\n",
              "      <td>b6de84cb47e7826</td>\n",
              "      <td>2015-05-01</td>\n",
              "      <td>EmailOpen</td>\n",
              "    </tr>\n",
              "    <tr>\n",
              "      <th>226398</th>\n",
              "      <td>3c2f9fd36293bc7</td>\n",
              "      <td>2015-05-01</td>\n",
              "      <td>WebVisit</td>\n",
              "    </tr>\n",
              "    <tr>\n",
              "      <th>226397</th>\n",
              "      <td>3c2f9fd36293bc7</td>\n",
              "      <td>2015-05-01</td>\n",
              "      <td>PageView</td>\n",
              "    </tr>\n",
              "    <tr>\n",
              "      <th>...</th>\n",
              "      <td>...</td>\n",
              "      <td>...</td>\n",
              "      <td>...</td>\n",
              "    </tr>\n",
              "    <tr>\n",
              "      <th>296590</th>\n",
              "      <td>50c39c3bfaf98a5</td>\n",
              "      <td>2015-07-31</td>\n",
              "      <td>EmailOpen</td>\n",
              "    </tr>\n",
              "    <tr>\n",
              "      <th>296637</th>\n",
              "      <td>50c6ac0d3256c47</td>\n",
              "      <td>2015-07-31</td>\n",
              "      <td>EmailOpen</td>\n",
              "    </tr>\n",
              "    <tr>\n",
              "      <th>57088</th>\n",
              "      <td>0dedb7bfe7e2c52</td>\n",
              "      <td>2015-07-31</td>\n",
              "      <td>FormSubmit</td>\n",
              "    </tr>\n",
              "    <tr>\n",
              "      <th>57090</th>\n",
              "      <td>0dedb7bfe7e2c52</td>\n",
              "      <td>2015-07-31</td>\n",
              "      <td>WebVisit</td>\n",
              "    </tr>\n",
              "    <tr>\n",
              "      <th>284129</th>\n",
              "      <td>4d0ff733fb5c66b</td>\n",
              "      <td>2015-07-31</td>\n",
              "      <td>EmailOpen</td>\n",
              "    </tr>\n",
              "  </tbody>\n",
              "</table>\n",
              "<p>797759 rows × 3 columns</p>\n",
              "</div>"
            ],
            "text/plain": [
              "                User_id Activity_date Activity_type\n",
              "687866  d419eae525d4301    2015-05-01     EmailOpen\n",
              "339539  5d7c05e8f37b353    2015-05-01     EmailOpen\n",
              "608390  b6de84cb47e7826    2015-05-01     EmailOpen\n",
              "226398  3c2f9fd36293bc7    2015-05-01      WebVisit\n",
              "226397  3c2f9fd36293bc7    2015-05-01      PageView\n",
              "...                 ...           ...           ...\n",
              "296590  50c39c3bfaf98a5    2015-07-31     EmailOpen\n",
              "296637  50c6ac0d3256c47    2015-07-31     EmailOpen\n",
              "57088   0dedb7bfe7e2c52    2015-07-31    FormSubmit\n",
              "57090   0dedb7bfe7e2c52    2015-07-31      WebVisit\n",
              "284129  4d0ff733fb5c66b    2015-07-31     EmailOpen\n",
              "\n",
              "[797759 rows x 3 columns]"
            ]
          },
          "metadata": {},
          "execution_count": 179
        }
      ]
    },
    {
      "cell_type": "code",
      "metadata": {
        "colab": {
          "base_uri": "https://localhost:8080/"
        },
        "id": "3uvMKIGZjVfU",
        "outputId": "5d4599b3-66ce-474f-a3bc-f9a583006f5b"
      },
      "source": [
        "test_activities = df_test[\"Activity_type\"].unique()\n",
        "test_activities"
      ],
      "execution_count": 181,
      "outputs": [
        {
          "output_type": "execute_result",
          "data": {
            "text/plain": [
              "array(['EmailOpen', 'WebVisit', 'PageView', 'EmailClickthrough',\n",
              "       'FormSubmit'], dtype=object)"
            ]
          },
          "metadata": {},
          "execution_count": 181
        }
      ]
    },
    {
      "cell_type": "code",
      "metadata": {
        "id": "Nf4CxmTujVi0"
      },
      "source": [
        "activity_steps_test = ['EmailOpen', 'WebVisit', 'PageView', 'EmailClickthrough', 'FormSubmit']"
      ],
      "execution_count": 182,
      "outputs": []
    },
    {
      "cell_type": "code",
      "metadata": {
        "id": "eElH1mQajqzb"
      },
      "source": [
        "grouped_test = df_test.groupby(\"User_id\").apply(funnelize, activity_steps_test)"
      ],
      "execution_count": 184,
      "outputs": []
    },
    {
      "cell_type": "code",
      "metadata": {
        "id": "ikNec1Zrjq4r"
      },
      "source": [
        "user_to_activity_test = pd.DataFrame(list(grouped_test.values),index = grouped_test.index,columns = activity_steps_test)"
      ],
      "execution_count": 185,
      "outputs": []
    },
    {
      "cell_type": "code",
      "metadata": {
        "colab": {
          "base_uri": "https://localhost:8080/",
          "height": 450
        },
        "id": "9xJ16pz_jq9t",
        "outputId": "46fdf78f-76fb-4da5-fdf2-88d8e1509d64"
      },
      "source": [
        "user_to_activity_test"
      ],
      "execution_count": 186,
      "outputs": [
        {
          "output_type": "execute_result",
          "data": {
            "text/html": [
              "<div>\n",
              "<style scoped>\n",
              "    .dataframe tbody tr th:only-of-type {\n",
              "        vertical-align: middle;\n",
              "    }\n",
              "\n",
              "    .dataframe tbody tr th {\n",
              "        vertical-align: top;\n",
              "    }\n",
              "\n",
              "    .dataframe thead th {\n",
              "        text-align: right;\n",
              "    }\n",
              "</style>\n",
              "<table border=\"1\" class=\"dataframe\">\n",
              "  <thead>\n",
              "    <tr style=\"text-align: right;\">\n",
              "      <th></th>\n",
              "      <th>EmailOpen</th>\n",
              "      <th>WebVisit</th>\n",
              "      <th>PageView</th>\n",
              "      <th>EmailClickthrough</th>\n",
              "      <th>FormSubmit</th>\n",
              "    </tr>\n",
              "    <tr>\n",
              "      <th>User_id</th>\n",
              "      <th></th>\n",
              "      <th></th>\n",
              "      <th></th>\n",
              "      <th></th>\n",
              "      <th></th>\n",
              "    </tr>\n",
              "  </thead>\n",
              "  <tbody>\n",
              "    <tr>\n",
              "      <th>0000ecf58c94668</th>\n",
              "      <td>5</td>\n",
              "      <td>0</td>\n",
              "      <td>0</td>\n",
              "      <td>0</td>\n",
              "      <td>0</td>\n",
              "    </tr>\n",
              "    <tr>\n",
              "      <th>000132f21724ee2</th>\n",
              "      <td>1</td>\n",
              "      <td>0</td>\n",
              "      <td>0</td>\n",
              "      <td>1</td>\n",
              "      <td>0</td>\n",
              "    </tr>\n",
              "    <tr>\n",
              "      <th>0001b315b991cf0</th>\n",
              "      <td>3</td>\n",
              "      <td>0</td>\n",
              "      <td>0</td>\n",
              "      <td>0</td>\n",
              "      <td>0</td>\n",
              "    </tr>\n",
              "    <tr>\n",
              "      <th>000269150971d08</th>\n",
              "      <td>4</td>\n",
              "      <td>0</td>\n",
              "      <td>0</td>\n",
              "      <td>0</td>\n",
              "      <td>0</td>\n",
              "    </tr>\n",
              "    <tr>\n",
              "      <th>000297ba4fa5026</th>\n",
              "      <td>3</td>\n",
              "      <td>0</td>\n",
              "      <td>0</td>\n",
              "      <td>0</td>\n",
              "      <td>0</td>\n",
              "    </tr>\n",
              "    <tr>\n",
              "      <th>...</th>\n",
              "      <td>...</td>\n",
              "      <td>...</td>\n",
              "      <td>...</td>\n",
              "      <td>...</td>\n",
              "      <td>...</td>\n",
              "    </tr>\n",
              "    <tr>\n",
              "      <th>fffc7f2ad169c6b</th>\n",
              "      <td>1</td>\n",
              "      <td>0</td>\n",
              "      <td>0</td>\n",
              "      <td>0</td>\n",
              "      <td>0</td>\n",
              "    </tr>\n",
              "    <tr>\n",
              "      <th>fffd77a0266d37c</th>\n",
              "      <td>3</td>\n",
              "      <td>1</td>\n",
              "      <td>1</td>\n",
              "      <td>0</td>\n",
              "      <td>1</td>\n",
              "    </tr>\n",
              "    <tr>\n",
              "      <th>fffed482b52afd8</th>\n",
              "      <td>1</td>\n",
              "      <td>0</td>\n",
              "      <td>0</td>\n",
              "      <td>0</td>\n",
              "      <td>0</td>\n",
              "    </tr>\n",
              "    <tr>\n",
              "      <th>ffffa4cc0190881</th>\n",
              "      <td>1</td>\n",
              "      <td>0</td>\n",
              "      <td>0</td>\n",
              "      <td>0</td>\n",
              "      <td>0</td>\n",
              "    </tr>\n",
              "    <tr>\n",
              "      <th>ffffecdd8dc6174</th>\n",
              "      <td>5</td>\n",
              "      <td>0</td>\n",
              "      <td>0</td>\n",
              "      <td>0</td>\n",
              "      <td>0</td>\n",
              "    </tr>\n",
              "  </tbody>\n",
              "</table>\n",
              "<p>132810 rows × 5 columns</p>\n",
              "</div>"
            ],
            "text/plain": [
              "                 EmailOpen  WebVisit  PageView  EmailClickthrough  FormSubmit\n",
              "User_id                                                                      \n",
              "0000ecf58c94668          5         0         0                  0           0\n",
              "000132f21724ee2          1         0         0                  1           0\n",
              "0001b315b991cf0          3         0         0                  0           0\n",
              "000269150971d08          4         0         0                  0           0\n",
              "000297ba4fa5026          3         0         0                  0           0\n",
              "...                    ...       ...       ...                ...         ...\n",
              "fffc7f2ad169c6b          1         0         0                  0           0\n",
              "fffd77a0266d37c          3         1         1                  0           1\n",
              "fffed482b52afd8          1         0         0                  0           0\n",
              "ffffa4cc0190881          1         0         0                  0           0\n",
              "ffffecdd8dc6174          5         0         0                  0           0\n",
              "\n",
              "[132810 rows x 5 columns]"
            ]
          },
          "metadata": {},
          "execution_count": 186
        }
      ]
    },
    {
      "cell_type": "code",
      "metadata": {
        "id": "8y4S0LK_jrCE"
      },
      "source": [
        "user_to_activity_test_arr = user_to_activity_test.to_numpy()"
      ],
      "execution_count": 187,
      "outputs": []
    },
    {
      "cell_type": "code",
      "metadata": {
        "colab": {
          "base_uri": "https://localhost:8080/"
        },
        "id": "qk2e9EMdkQws",
        "outputId": "6895f4dd-bf0f-434e-de2b-1c86a91b64eb"
      },
      "source": [
        "user_to_activity_test_arr.shape"
      ],
      "execution_count": 188,
      "outputs": [
        {
          "output_type": "execute_result",
          "data": {
            "text/plain": [
              "(132810, 5)"
            ]
          },
          "metadata": {},
          "execution_count": 188
        }
      ]
    },
    {
      "cell_type": "code",
      "metadata": {
        "id": "95nXEsHckQ2n"
      },
      "source": [
        "predicted_test = forest.predict(user_to_activity_test_arr)"
      ],
      "execution_count": 189,
      "outputs": []
    },
    {
      "cell_type": "code",
      "metadata": {
        "id": "KANM8zYfkQ6s"
      },
      "source": [
        "output = forest.predict_proba(user_to_activity_test_arr)"
      ],
      "execution_count": 190,
      "outputs": []
    },
    {
      "cell_type": "code",
      "metadata": {
        "id": "NdJr3z_ckaiS"
      },
      "source": [
        "output = pd.DataFrame(output)"
      ],
      "execution_count": 191,
      "outputs": []
    },
    {
      "cell_type": "code",
      "metadata": {
        "colab": {
          "base_uri": "https://localhost:8080/",
          "height": 419
        },
        "id": "BA5Zrluakamk",
        "outputId": "932f8ec7-2601-46ae-ecc2-799ac2e61efc"
      },
      "source": [
        "output"
      ],
      "execution_count": 192,
      "outputs": [
        {
          "output_type": "execute_result",
          "data": {
            "text/html": [
              "<div>\n",
              "<style scoped>\n",
              "    .dataframe tbody tr th:only-of-type {\n",
              "        vertical-align: middle;\n",
              "    }\n",
              "\n",
              "    .dataframe tbody tr th {\n",
              "        vertical-align: top;\n",
              "    }\n",
              "\n",
              "    .dataframe thead th {\n",
              "        text-align: right;\n",
              "    }\n",
              "</style>\n",
              "<table border=\"1\" class=\"dataframe\">\n",
              "  <thead>\n",
              "    <tr style=\"text-align: right;\">\n",
              "      <th></th>\n",
              "      <th>0</th>\n",
              "      <th>1</th>\n",
              "    </tr>\n",
              "  </thead>\n",
              "  <tbody>\n",
              "    <tr>\n",
              "      <th>0</th>\n",
              "      <td>0.900894</td>\n",
              "      <td>0.099106</td>\n",
              "    </tr>\n",
              "    <tr>\n",
              "      <th>1</th>\n",
              "      <td>0.953183</td>\n",
              "      <td>0.046817</td>\n",
              "    </tr>\n",
              "    <tr>\n",
              "      <th>2</th>\n",
              "      <td>0.918359</td>\n",
              "      <td>0.081641</td>\n",
              "    </tr>\n",
              "    <tr>\n",
              "      <th>3</th>\n",
              "      <td>0.910478</td>\n",
              "      <td>0.089522</td>\n",
              "    </tr>\n",
              "    <tr>\n",
              "      <th>4</th>\n",
              "      <td>0.918359</td>\n",
              "      <td>0.081641</td>\n",
              "    </tr>\n",
              "    <tr>\n",
              "      <th>...</th>\n",
              "      <td>...</td>\n",
              "      <td>...</td>\n",
              "    </tr>\n",
              "    <tr>\n",
              "      <th>132805</th>\n",
              "      <td>0.939324</td>\n",
              "      <td>0.060676</td>\n",
              "    </tr>\n",
              "    <tr>\n",
              "      <th>132806</th>\n",
              "      <td>0.900246</td>\n",
              "      <td>0.099754</td>\n",
              "    </tr>\n",
              "    <tr>\n",
              "      <th>132807</th>\n",
              "      <td>0.939324</td>\n",
              "      <td>0.060676</td>\n",
              "    </tr>\n",
              "    <tr>\n",
              "      <th>132808</th>\n",
              "      <td>0.939324</td>\n",
              "      <td>0.060676</td>\n",
              "    </tr>\n",
              "    <tr>\n",
              "      <th>132809</th>\n",
              "      <td>0.900894</td>\n",
              "      <td>0.099106</td>\n",
              "    </tr>\n",
              "  </tbody>\n",
              "</table>\n",
              "<p>132810 rows × 2 columns</p>\n",
              "</div>"
            ],
            "text/plain": [
              "               0         1\n",
              "0       0.900894  0.099106\n",
              "1       0.953183  0.046817\n",
              "2       0.918359  0.081641\n",
              "3       0.910478  0.089522\n",
              "4       0.918359  0.081641\n",
              "...          ...       ...\n",
              "132805  0.939324  0.060676\n",
              "132806  0.900246  0.099754\n",
              "132807  0.939324  0.060676\n",
              "132808  0.939324  0.060676\n",
              "132809  0.900894  0.099106\n",
              "\n",
              "[132810 rows x 2 columns]"
            ]
          },
          "metadata": {},
          "execution_count": 192
        }
      ]
    },
    {
      "cell_type": "code",
      "metadata": {
        "id": "_K5xH-BIkaqM"
      },
      "source": [
        "user_to_activity_test['User_ID'] = user_to_activity_test.index"
      ],
      "execution_count": 193,
      "outputs": []
    },
    {
      "cell_type": "code",
      "metadata": {
        "id": "SAIEa3DCkatb"
      },
      "source": [
        "user_to_activity_test.index = range(132810)\n",
        "output.index = range(132810)"
      ],
      "execution_count": 194,
      "outputs": []
    },
    {
      "cell_type": "code",
      "metadata": {
        "id": "Otf7PqUCknvJ"
      },
      "source": [
        "output_with_activities = pd.concat([user_to_activity_test, output], axis = 1)"
      ],
      "execution_count": 195,
      "outputs": []
    },
    {
      "cell_type": "code",
      "metadata": {
        "colab": {
          "base_uri": "https://localhost:8080/",
          "height": 419
        },
        "id": "B0ttET3Xkn46",
        "outputId": "0cfa690f-42db-4706-8004-e125b9821463"
      },
      "source": [
        "output_with_activities"
      ],
      "execution_count": 196,
      "outputs": [
        {
          "output_type": "execute_result",
          "data": {
            "text/html": [
              "<div>\n",
              "<style scoped>\n",
              "    .dataframe tbody tr th:only-of-type {\n",
              "        vertical-align: middle;\n",
              "    }\n",
              "\n",
              "    .dataframe tbody tr th {\n",
              "        vertical-align: top;\n",
              "    }\n",
              "\n",
              "    .dataframe thead th {\n",
              "        text-align: right;\n",
              "    }\n",
              "</style>\n",
              "<table border=\"1\" class=\"dataframe\">\n",
              "  <thead>\n",
              "    <tr style=\"text-align: right;\">\n",
              "      <th></th>\n",
              "      <th>EmailOpen</th>\n",
              "      <th>WebVisit</th>\n",
              "      <th>PageView</th>\n",
              "      <th>EmailClickthrough</th>\n",
              "      <th>FormSubmit</th>\n",
              "      <th>User_ID</th>\n",
              "      <th>0</th>\n",
              "      <th>1</th>\n",
              "    </tr>\n",
              "  </thead>\n",
              "  <tbody>\n",
              "    <tr>\n",
              "      <th>0</th>\n",
              "      <td>5</td>\n",
              "      <td>0</td>\n",
              "      <td>0</td>\n",
              "      <td>0</td>\n",
              "      <td>0</td>\n",
              "      <td>0000ecf58c94668</td>\n",
              "      <td>0.900894</td>\n",
              "      <td>0.099106</td>\n",
              "    </tr>\n",
              "    <tr>\n",
              "      <th>1</th>\n",
              "      <td>1</td>\n",
              "      <td>0</td>\n",
              "      <td>0</td>\n",
              "      <td>1</td>\n",
              "      <td>0</td>\n",
              "      <td>000132f21724ee2</td>\n",
              "      <td>0.953183</td>\n",
              "      <td>0.046817</td>\n",
              "    </tr>\n",
              "    <tr>\n",
              "      <th>2</th>\n",
              "      <td>3</td>\n",
              "      <td>0</td>\n",
              "      <td>0</td>\n",
              "      <td>0</td>\n",
              "      <td>0</td>\n",
              "      <td>0001b315b991cf0</td>\n",
              "      <td>0.918359</td>\n",
              "      <td>0.081641</td>\n",
              "    </tr>\n",
              "    <tr>\n",
              "      <th>3</th>\n",
              "      <td>4</td>\n",
              "      <td>0</td>\n",
              "      <td>0</td>\n",
              "      <td>0</td>\n",
              "      <td>0</td>\n",
              "      <td>000269150971d08</td>\n",
              "      <td>0.910478</td>\n",
              "      <td>0.089522</td>\n",
              "    </tr>\n",
              "    <tr>\n",
              "      <th>4</th>\n",
              "      <td>3</td>\n",
              "      <td>0</td>\n",
              "      <td>0</td>\n",
              "      <td>0</td>\n",
              "      <td>0</td>\n",
              "      <td>000297ba4fa5026</td>\n",
              "      <td>0.918359</td>\n",
              "      <td>0.081641</td>\n",
              "    </tr>\n",
              "    <tr>\n",
              "      <th>...</th>\n",
              "      <td>...</td>\n",
              "      <td>...</td>\n",
              "      <td>...</td>\n",
              "      <td>...</td>\n",
              "      <td>...</td>\n",
              "      <td>...</td>\n",
              "      <td>...</td>\n",
              "      <td>...</td>\n",
              "    </tr>\n",
              "    <tr>\n",
              "      <th>132805</th>\n",
              "      <td>1</td>\n",
              "      <td>0</td>\n",
              "      <td>0</td>\n",
              "      <td>0</td>\n",
              "      <td>0</td>\n",
              "      <td>fffc7f2ad169c6b</td>\n",
              "      <td>0.939324</td>\n",
              "      <td>0.060676</td>\n",
              "    </tr>\n",
              "    <tr>\n",
              "      <th>132806</th>\n",
              "      <td>3</td>\n",
              "      <td>1</td>\n",
              "      <td>1</td>\n",
              "      <td>0</td>\n",
              "      <td>1</td>\n",
              "      <td>fffd77a0266d37c</td>\n",
              "      <td>0.900246</td>\n",
              "      <td>0.099754</td>\n",
              "    </tr>\n",
              "    <tr>\n",
              "      <th>132807</th>\n",
              "      <td>1</td>\n",
              "      <td>0</td>\n",
              "      <td>0</td>\n",
              "      <td>0</td>\n",
              "      <td>0</td>\n",
              "      <td>fffed482b52afd8</td>\n",
              "      <td>0.939324</td>\n",
              "      <td>0.060676</td>\n",
              "    </tr>\n",
              "    <tr>\n",
              "      <th>132808</th>\n",
              "      <td>1</td>\n",
              "      <td>0</td>\n",
              "      <td>0</td>\n",
              "      <td>0</td>\n",
              "      <td>0</td>\n",
              "      <td>ffffa4cc0190881</td>\n",
              "      <td>0.939324</td>\n",
              "      <td>0.060676</td>\n",
              "    </tr>\n",
              "    <tr>\n",
              "      <th>132809</th>\n",
              "      <td>5</td>\n",
              "      <td>0</td>\n",
              "      <td>0</td>\n",
              "      <td>0</td>\n",
              "      <td>0</td>\n",
              "      <td>ffffecdd8dc6174</td>\n",
              "      <td>0.900894</td>\n",
              "      <td>0.099106</td>\n",
              "    </tr>\n",
              "  </tbody>\n",
              "</table>\n",
              "<p>132810 rows × 8 columns</p>\n",
              "</div>"
            ],
            "text/plain": [
              "        EmailOpen  WebVisit  PageView  ...          User_ID         0         1\n",
              "0               5         0         0  ...  0000ecf58c94668  0.900894  0.099106\n",
              "1               1         0         0  ...  000132f21724ee2  0.953183  0.046817\n",
              "2               3         0         0  ...  0001b315b991cf0  0.918359  0.081641\n",
              "3               4         0         0  ...  000269150971d08  0.910478  0.089522\n",
              "4               3         0         0  ...  000297ba4fa5026  0.918359  0.081641\n",
              "...           ...       ...       ...  ...              ...       ...       ...\n",
              "132805          1         0         0  ...  fffc7f2ad169c6b  0.939324  0.060676\n",
              "132806          3         1         1  ...  fffd77a0266d37c  0.900246  0.099754\n",
              "132807          1         0         0  ...  fffed482b52afd8  0.939324  0.060676\n",
              "132808          1         0         0  ...  ffffa4cc0190881  0.939324  0.060676\n",
              "132809          5         0         0  ...  ffffecdd8dc6174  0.900894  0.099106\n",
              "\n",
              "[132810 rows x 8 columns]"
            ]
          },
          "metadata": {},
          "execution_count": 196
        }
      ]
    },
    {
      "cell_type": "code",
      "metadata": {
        "id": "CIKVUwKUkn80"
      },
      "source": [
        "output_with_activities.columns = ['EmailOpen','WebVisit','PageView','EmailClickthrough', 'FormSubmit', 'User_ID', 'noPurchase','willPurchase']"
      ],
      "execution_count": 197,
      "outputs": []
    },
    {
      "cell_type": "code",
      "metadata": {
        "colab": {
          "base_uri": "https://localhost:8080/",
          "height": 419
        },
        "id": "PHmgD1VokoOa",
        "outputId": "aa1211f4-b6c8-4464-9ffc-2ff79e36cbb7"
      },
      "source": [
        "output_with_activities"
      ],
      "execution_count": 198,
      "outputs": [
        {
          "output_type": "execute_result",
          "data": {
            "text/html": [
              "<div>\n",
              "<style scoped>\n",
              "    .dataframe tbody tr th:only-of-type {\n",
              "        vertical-align: middle;\n",
              "    }\n",
              "\n",
              "    .dataframe tbody tr th {\n",
              "        vertical-align: top;\n",
              "    }\n",
              "\n",
              "    .dataframe thead th {\n",
              "        text-align: right;\n",
              "    }\n",
              "</style>\n",
              "<table border=\"1\" class=\"dataframe\">\n",
              "  <thead>\n",
              "    <tr style=\"text-align: right;\">\n",
              "      <th></th>\n",
              "      <th>EmailOpen</th>\n",
              "      <th>WebVisit</th>\n",
              "      <th>PageView</th>\n",
              "      <th>EmailClickthrough</th>\n",
              "      <th>FormSubmit</th>\n",
              "      <th>User_ID</th>\n",
              "      <th>noPurchase</th>\n",
              "      <th>willPurchase</th>\n",
              "    </tr>\n",
              "  </thead>\n",
              "  <tbody>\n",
              "    <tr>\n",
              "      <th>0</th>\n",
              "      <td>5</td>\n",
              "      <td>0</td>\n",
              "      <td>0</td>\n",
              "      <td>0</td>\n",
              "      <td>0</td>\n",
              "      <td>0000ecf58c94668</td>\n",
              "      <td>0.900894</td>\n",
              "      <td>0.099106</td>\n",
              "    </tr>\n",
              "    <tr>\n",
              "      <th>1</th>\n",
              "      <td>1</td>\n",
              "      <td>0</td>\n",
              "      <td>0</td>\n",
              "      <td>1</td>\n",
              "      <td>0</td>\n",
              "      <td>000132f21724ee2</td>\n",
              "      <td>0.953183</td>\n",
              "      <td>0.046817</td>\n",
              "    </tr>\n",
              "    <tr>\n",
              "      <th>2</th>\n",
              "      <td>3</td>\n",
              "      <td>0</td>\n",
              "      <td>0</td>\n",
              "      <td>0</td>\n",
              "      <td>0</td>\n",
              "      <td>0001b315b991cf0</td>\n",
              "      <td>0.918359</td>\n",
              "      <td>0.081641</td>\n",
              "    </tr>\n",
              "    <tr>\n",
              "      <th>3</th>\n",
              "      <td>4</td>\n",
              "      <td>0</td>\n",
              "      <td>0</td>\n",
              "      <td>0</td>\n",
              "      <td>0</td>\n",
              "      <td>000269150971d08</td>\n",
              "      <td>0.910478</td>\n",
              "      <td>0.089522</td>\n",
              "    </tr>\n",
              "    <tr>\n",
              "      <th>4</th>\n",
              "      <td>3</td>\n",
              "      <td>0</td>\n",
              "      <td>0</td>\n",
              "      <td>0</td>\n",
              "      <td>0</td>\n",
              "      <td>000297ba4fa5026</td>\n",
              "      <td>0.918359</td>\n",
              "      <td>0.081641</td>\n",
              "    </tr>\n",
              "    <tr>\n",
              "      <th>...</th>\n",
              "      <td>...</td>\n",
              "      <td>...</td>\n",
              "      <td>...</td>\n",
              "      <td>...</td>\n",
              "      <td>...</td>\n",
              "      <td>...</td>\n",
              "      <td>...</td>\n",
              "      <td>...</td>\n",
              "    </tr>\n",
              "    <tr>\n",
              "      <th>132805</th>\n",
              "      <td>1</td>\n",
              "      <td>0</td>\n",
              "      <td>0</td>\n",
              "      <td>0</td>\n",
              "      <td>0</td>\n",
              "      <td>fffc7f2ad169c6b</td>\n",
              "      <td>0.939324</td>\n",
              "      <td>0.060676</td>\n",
              "    </tr>\n",
              "    <tr>\n",
              "      <th>132806</th>\n",
              "      <td>3</td>\n",
              "      <td>1</td>\n",
              "      <td>1</td>\n",
              "      <td>0</td>\n",
              "      <td>1</td>\n",
              "      <td>fffd77a0266d37c</td>\n",
              "      <td>0.900246</td>\n",
              "      <td>0.099754</td>\n",
              "    </tr>\n",
              "    <tr>\n",
              "      <th>132807</th>\n",
              "      <td>1</td>\n",
              "      <td>0</td>\n",
              "      <td>0</td>\n",
              "      <td>0</td>\n",
              "      <td>0</td>\n",
              "      <td>fffed482b52afd8</td>\n",
              "      <td>0.939324</td>\n",
              "      <td>0.060676</td>\n",
              "    </tr>\n",
              "    <tr>\n",
              "      <th>132808</th>\n",
              "      <td>1</td>\n",
              "      <td>0</td>\n",
              "      <td>0</td>\n",
              "      <td>0</td>\n",
              "      <td>0</td>\n",
              "      <td>ffffa4cc0190881</td>\n",
              "      <td>0.939324</td>\n",
              "      <td>0.060676</td>\n",
              "    </tr>\n",
              "    <tr>\n",
              "      <th>132809</th>\n",
              "      <td>5</td>\n",
              "      <td>0</td>\n",
              "      <td>0</td>\n",
              "      <td>0</td>\n",
              "      <td>0</td>\n",
              "      <td>ffffecdd8dc6174</td>\n",
              "      <td>0.900894</td>\n",
              "      <td>0.099106</td>\n",
              "    </tr>\n",
              "  </tbody>\n",
              "</table>\n",
              "<p>132810 rows × 8 columns</p>\n",
              "</div>"
            ],
            "text/plain": [
              "        EmailOpen  WebVisit  ...  noPurchase  willPurchase\n",
              "0               5         0  ...    0.900894      0.099106\n",
              "1               1         0  ...    0.953183      0.046817\n",
              "2               3         0  ...    0.918359      0.081641\n",
              "3               4         0  ...    0.910478      0.089522\n",
              "4               3         0  ...    0.918359      0.081641\n",
              "...           ...       ...  ...         ...           ...\n",
              "132805          1         0  ...    0.939324      0.060676\n",
              "132806          3         1  ...    0.900246      0.099754\n",
              "132807          1         0  ...    0.939324      0.060676\n",
              "132808          1         0  ...    0.939324      0.060676\n",
              "132809          5         0  ...    0.900894      0.099106\n",
              "\n",
              "[132810 rows x 8 columns]"
            ]
          },
          "metadata": {},
          "execution_count": 198
        }
      ]
    },
    {
      "cell_type": "code",
      "metadata": {
        "id": "JO2AZNXRk8jV"
      },
      "source": [
        "potential_buyers = output_with_activities.sort_values(by = 'willPurchase', ascending = False)"
      ],
      "execution_count": 199,
      "outputs": []
    },
    {
      "cell_type": "code",
      "metadata": {
        "id": "rkxajCVlk8nj"
      },
      "source": [
        "top1000_users = potential_buyers.nlargest(1000, 'willPurchase')"
      ],
      "execution_count": 200,
      "outputs": []
    },
    {
      "cell_type": "code",
      "metadata": {
        "id": "K9FOnJYak8rX"
      },
      "source": [
        "top1000_users = top1000_users[['User_ID','willPurchase']]"
      ],
      "execution_count": 201,
      "outputs": []
    },
    {
      "cell_type": "code",
      "metadata": {
        "colab": {
          "base_uri": "https://localhost:8080/",
          "height": 419
        },
        "id": "OqjqlFgVk8v0",
        "outputId": "1fa9b528-0e6b-46c3-e522-c69df15d897c"
      },
      "source": [
        "top1000_users"
      ],
      "execution_count": 202,
      "outputs": [
        {
          "output_type": "execute_result",
          "data": {
            "text/html": [
              "<div>\n",
              "<style scoped>\n",
              "    .dataframe tbody tr th:only-of-type {\n",
              "        vertical-align: middle;\n",
              "    }\n",
              "\n",
              "    .dataframe tbody tr th {\n",
              "        vertical-align: top;\n",
              "    }\n",
              "\n",
              "    .dataframe thead th {\n",
              "        text-align: right;\n",
              "    }\n",
              "</style>\n",
              "<table border=\"1\" class=\"dataframe\">\n",
              "  <thead>\n",
              "    <tr style=\"text-align: right;\">\n",
              "      <th></th>\n",
              "      <th>User_ID</th>\n",
              "      <th>willPurchase</th>\n",
              "    </tr>\n",
              "  </thead>\n",
              "  <tbody>\n",
              "    <tr>\n",
              "      <th>41501</th>\n",
              "      <td>45b840cab790e95</td>\n",
              "      <td>0.994000</td>\n",
              "    </tr>\n",
              "    <tr>\n",
              "      <th>110108</th>\n",
              "      <td>cce95d60472c620</td>\n",
              "      <td>0.994000</td>\n",
              "    </tr>\n",
              "    <tr>\n",
              "      <th>75276</th>\n",
              "      <td>85318486d507f7d</td>\n",
              "      <td>0.994000</td>\n",
              "    </tr>\n",
              "    <tr>\n",
              "      <th>42229</th>\n",
              "      <td>4708979d4ea1c79</td>\n",
              "      <td>0.990000</td>\n",
              "    </tr>\n",
              "    <tr>\n",
              "      <th>46684</th>\n",
              "      <td>4ef8fad8fe024f9</td>\n",
              "      <td>0.990000</td>\n",
              "    </tr>\n",
              "    <tr>\n",
              "      <th>...</th>\n",
              "      <td>...</td>\n",
              "      <td>...</td>\n",
              "    </tr>\n",
              "    <tr>\n",
              "      <th>101747</th>\n",
              "      <td>bb2db0a93772426</td>\n",
              "      <td>0.700277</td>\n",
              "    </tr>\n",
              "    <tr>\n",
              "      <th>57910</th>\n",
              "      <td>63adffa00da294d</td>\n",
              "      <td>0.700000</td>\n",
              "    </tr>\n",
              "    <tr>\n",
              "      <th>55232</th>\n",
              "      <td>5eb75f40e179f55</td>\n",
              "      <td>0.700000</td>\n",
              "    </tr>\n",
              "    <tr>\n",
              "      <th>86686</th>\n",
              "      <td>9c0b1cb28c18c96</td>\n",
              "      <td>0.700000</td>\n",
              "    </tr>\n",
              "    <tr>\n",
              "      <th>8597</th>\n",
              "      <td>0d98ff485cffe32</td>\n",
              "      <td>0.700000</td>\n",
              "    </tr>\n",
              "  </tbody>\n",
              "</table>\n",
              "<p>1000 rows × 2 columns</p>\n",
              "</div>"
            ],
            "text/plain": [
              "                User_ID  willPurchase\n",
              "41501   45b840cab790e95      0.994000\n",
              "110108  cce95d60472c620      0.994000\n",
              "75276   85318486d507f7d      0.994000\n",
              "42229   4708979d4ea1c79      0.990000\n",
              "46684   4ef8fad8fe024f9      0.990000\n",
              "...                 ...           ...\n",
              "101747  bb2db0a93772426      0.700277\n",
              "57910   63adffa00da294d      0.700000\n",
              "55232   5eb75f40e179f55      0.700000\n",
              "86686   9c0b1cb28c18c96      0.700000\n",
              "8597    0d98ff485cffe32      0.700000\n",
              "\n",
              "[1000 rows x 2 columns]"
            ]
          },
          "metadata": {},
          "execution_count": 202
        }
      ]
    },
    {
      "cell_type": "code",
      "metadata": {
        "id": "fRNevkqGk9B_"
      },
      "source": [
        "top1000_users.to_csv('/drive/My Drive/Problem/dataset/Top_1000_rf.csv',index=False)"
      ],
      "execution_count": 225,
      "outputs": []
    },
    {
      "cell_type": "code",
      "metadata": {
        "colab": {
          "base_uri": "https://localhost:8080/"
        },
        "id": "F1zgW3aboaMn",
        "outputId": "fe3c6f6f-db22-4804-f788-37715d724d97"
      },
      "source": [
        "drive.mount(\"/drive\")"
      ],
      "execution_count": 218,
      "outputs": [
        {
          "output_type": "stream",
          "name": "stdout",
          "text": [
            "Mounted at /drive\n"
          ]
        }
      ]
    },
    {
      "cell_type": "code",
      "metadata": {
        "id": "CkVWP3zFpUEC"
      },
      "source": [
        "submission.to_csv('/drive/My Drive/Problem/dataset/sample_submission_1.csv',index=False)"
      ],
      "execution_count": null,
      "outputs": []
    },
    {
      "cell_type": "code",
      "metadata": {
        "id": "dvqsWbH2k9KH"
      },
      "source": [
        "# Using Neural Network\n",
        "\n",
        "mlp = MLPClassifier(hidden_layer_sizes=(5,8,8), activation='relu', solver='adam', max_iter=1000)"
      ],
      "execution_count": 204,
      "outputs": []
    },
    {
      "cell_type": "code",
      "metadata": {
        "colab": {
          "base_uri": "https://localhost:8080/"
        },
        "id": "Ko9CJII_k9PO",
        "outputId": "69bf833e-66f5-4541-9a2e-b977ecd03297"
      },
      "source": [
        "mlp.fit(X_train,Y_train)"
      ],
      "execution_count": 205,
      "outputs": [
        {
          "output_type": "execute_result",
          "data": {
            "text/plain": [
              "MLPClassifier(activation='relu', alpha=0.0001, batch_size='auto', beta_1=0.9,\n",
              "              beta_2=0.999, early_stopping=False, epsilon=1e-08,\n",
              "              hidden_layer_sizes=(5, 8, 8), learning_rate='constant',\n",
              "              learning_rate_init=0.001, max_fun=15000, max_iter=1000,\n",
              "              momentum=0.9, n_iter_no_change=10, nesterovs_momentum=True,\n",
              "              power_t=0.5, random_state=None, shuffle=True, solver='adam',\n",
              "              tol=0.0001, validation_fraction=0.1, verbose=False,\n",
              "              warm_start=False)"
            ]
          },
          "metadata": {},
          "execution_count": 205
        }
      ]
    },
    {
      "cell_type": "code",
      "metadata": {
        "id": "-gUsWfCVk9T7"
      },
      "source": [
        "predict_test = mlp.predict(X_test)"
      ],
      "execution_count": 206,
      "outputs": []
    },
    {
      "cell_type": "code",
      "metadata": {
        "id": "coEXBVwvk9XY"
      },
      "source": [
        "\n",
        "nn_cf_matrix_test = metrics.confusion_matrix(Y_test,predict_test)"
      ],
      "execution_count": 207,
      "outputs": []
    },
    {
      "cell_type": "code",
      "metadata": {
        "colab": {
          "base_uri": "https://localhost:8080/"
        },
        "id": "Hs54Oadclsvt",
        "outputId": "54077559-9989-4aad-c093-e4d0d33cc617"
      },
      "source": [
        "nn_cf_matrix_test"
      ],
      "execution_count": 216,
      "outputs": [
        {
          "output_type": "execute_result",
          "data": {
            "text/plain": [
              "array([[235099,   2478],\n",
              "       [ 34696,  69295]])"
            ]
          },
          "metadata": {},
          "execution_count": 216
        }
      ]
    },
    {
      "cell_type": "code",
      "metadata": {
        "colab": {
          "base_uri": "https://localhost:8080/",
          "height": 282
        },
        "id": "s9pDZ7fqk9ao",
        "outputId": "1ac45aa3-cd05-4eb2-e98f-d71ef35af386"
      },
      "source": [
        "group_names = ['TN','FP','FN','TP']\n",
        "\n",
        "group_counts = [\"{0:0.0f}\".format(value) for value in\n",
        "                nn_cf_matrix_test.flatten()]\n",
        "\n",
        "group_percentages = [\"{0:.2%}\".format(value) for value in\n",
        "                     nn_cf_matrix_test.flatten()/np.sum(nn_cf_matrix_test)]\n",
        "\n",
        "labels = [f\"{v1}\\n{v2}\\n{v3}\" for v1, v2, v3 in\n",
        "          zip(group_names,group_counts,group_percentages)]\n",
        "\n",
        "labels = np.asarray(labels).reshape(2,2)\n",
        "\n",
        "sns.heatmap(nn_cf_matrix_test, cmap=\"YlGnBu\", annot=labels, fmt='')"
      ],
      "execution_count": 217,
      "outputs": [
        {
          "output_type": "execute_result",
          "data": {
            "text/plain": [
              "<matplotlib.axes._subplots.AxesSubplot at 0x7f6c7cdb9450>"
            ]
          },
          "metadata": {},
          "execution_count": 217
        },
        {
          "output_type": "display_data",
          "data": {
            "image/png": "[encoded data removed]",
            "text/plain": [
              "<Figure size 432x288 with 2 Axes>"
            ]
          },
          "metadata": {
            "needs_background": "light"
          }
        }
      ]
    },
    {
      "cell_type": "code",
      "metadata": {
        "colab": {
          "base_uri": "https://localhost:8080/"
        },
        "id": "LkfciCghk9d1",
        "outputId": "43c16fa5-f5ed-4e6f-a196-0f8fb0e9488f"
      },
      "source": [
        "print(metrics.classification_report(Y_test,predict_test))"
      ],
      "execution_count": 211,
      "outputs": [
        {
          "output_type": "stream",
          "name": "stdout",
          "text": [
            "              precision    recall  f1-score   support\n",
            "\n",
            "           0       0.87      0.99      0.93    237577\n",
            "           1       0.97      0.67      0.79    103991\n",
            "\n",
            "    accuracy                           0.89    341568\n",
            "   macro avg       0.92      0.83      0.86    341568\n",
            "weighted avg       0.90      0.89      0.88    341568\n",
            "\n"
          ]
        }
      ]
    },
    {
      "cell_type": "code",
      "metadata": {
        "id": "o-sDQeRAk9hp"
      },
      "source": [
        ""
      ],
      "execution_count": null,
      "outputs": []
    }
  ]
}